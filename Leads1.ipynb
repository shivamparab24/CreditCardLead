{
 "cells": [
  {
   "cell_type": "markdown",
   "id": "938793b1",
   "metadata": {},
   "source": [
    "Importing all the necessary libraries."
   ]
  },
  {
   "cell_type": "code",
   "execution_count": 1,
   "id": "dbc0412b-4e78-4793-bae8-64e14e1c32a4",
   "metadata": {
    "executionInfo": {
     "elapsed": 2778,
     "status": "ok",
     "timestamp": 1718553770608,
     "user": {
      "displayName": "Shivam Parab",
      "userId": "05874345986381932168"
     },
     "user_tz": -330
    },
    "id": "dbc0412b-4e78-4793-bae8-64e14e1c32a4"
   },
   "outputs": [],
   "source": [
    "import pandas as pd\n",
    "import numpy as np\n",
    "import seaborn as sns\n",
    "import matplotlib.pyplot as plt\n",
    "from sklearn.model_selection import train_test_split\n",
    "from sklearn.preprocessing import StandardScaler\n",
    "from sklearn.metrics import accuracy_score, recall_score, f1_score, confusion_matrix, balanced_accuracy_score, roc_curve, roc_auc_score\n",
    "from sklearn.linear_model import LogisticRegression\n",
    "from sklearn.tree import DecisionTreeClassifier\n",
    "from sklearn.ensemble import RandomForestClassifier\n",
    "from sklearn.svm import SVC\n",
    "from sklearn.neighbors import KNeighborsClassifier\n",
    "from sklearn.naive_bayes import GaussianNB\n",
    "\n",
    "import warnings\n",
    "warnings.filterwarnings('always')\n",
    "warnings.filterwarnings('ignore')"
   ]
  },
  {
   "cell_type": "markdown",
   "id": "7a72ef62",
   "metadata": {},
   "source": [
    "Loading the dataset and performing EDA."
   ]
  },
  {
   "cell_type": "code",
   "execution_count": 2,
   "id": "6971f6b6-40e2-4395-9948-3365de5239d0",
   "metadata": {
    "executionInfo": {
     "elapsed": 1311,
     "status": "ok",
     "timestamp": 1718553771916,
     "user": {
      "displayName": "Shivam Parab",
      "userId": "05874345986381932168"
     },
     "user_tz": -330
    },
    "id": "6971f6b6-40e2-4395-9948-3365de5239d0"
   },
   "outputs": [],
   "source": [
    "train = pd.read_csv(\"E:/Engineering/TnP/Projects/DataScience/CreditCardLead/dataset/train_s3TEQDk.csv\")"
   ]
  },
  {
   "cell_type": "code",
   "execution_count": 3,
   "id": "19b89789-81cf-4d86-9e4e-5b7ad34b957f",
   "metadata": {
    "colab": {
     "base_uri": "https://localhost:8080/"
    },
    "executionInfo": {
     "elapsed": 27,
     "status": "ok",
     "timestamp": 1718553771926,
     "user": {
      "displayName": "Shivam Parab",
      "userId": "05874345986381932168"
     },
     "user_tz": -330
    },
    "id": "19b89789-81cf-4d86-9e4e-5b7ad34b957f",
    "outputId": "676c969c-b694-4f33-95fb-530124ea31a6"
   },
   "outputs": [
    {
     "data": {
      "text/plain": [
       "(245725, 11)"
      ]
     },
     "execution_count": 3,
     "metadata": {},
     "output_type": "execute_result"
    }
   ],
   "source": [
    "train.shape"
   ]
  },
  {
   "cell_type": "code",
   "execution_count": 4,
   "id": "cfcd98b2-a6e9-435c-8dfe-a8f4f80a4390",
   "metadata": {
    "executionInfo": {
     "elapsed": 26,
     "status": "ok",
     "timestamp": 1718553771927,
     "user": {
      "displayName": "Shivam Parab",
      "userId": "05874345986381932168"
     },
     "user_tz": -330
    },
    "id": "cfcd98b2-a6e9-435c-8dfe-a8f4f80a4390"
   },
   "outputs": [],
   "source": [
    "train_dup = train.head(2000)"
   ]
  },
  {
   "cell_type": "code",
   "execution_count": 5,
   "id": "d29d4f30-9b20-4974-908a-3103d51fbae8",
   "metadata": {
    "colab": {
     "base_uri": "https://localhost:8080/"
    },
    "executionInfo": {
     "elapsed": 26,
     "status": "ok",
     "timestamp": 1718553771927,
     "user": {
      "displayName": "Shivam Parab",
      "userId": "05874345986381932168"
     },
     "user_tz": -330
    },
    "id": "d29d4f30-9b20-4974-908a-3103d51fbae8",
    "outputId": "9c938369-fe41-4aee-9d17-295a50c4bd7c"
   },
   "outputs": [],
   "source": [
    "train_dup['Serial_Number'] = range(1, len(train_dup) + 1)"
   ]
  },
  {
   "cell_type": "code",
   "execution_count": 6,
   "id": "924599b4-456d-483c-8258-51ef128f0cd8",
   "metadata": {
    "colab": {
     "base_uri": "https://localhost:8080/",
     "height": 226
    },
    "executionInfo": {
     "elapsed": 23,
     "status": "ok",
     "timestamp": 1718553771927,
     "user": {
      "displayName": "Shivam Parab",
      "userId": "05874345986381932168"
     },
     "user_tz": -330
    },
    "id": "924599b4-456d-483c-8258-51ef128f0cd8",
    "outputId": "62dff172-10bc-4d5d-e37a-1db9dc39d5f8"
   },
   "outputs": [
    {
     "data": {
      "text/html": [
       "<div>\n",
       "<style scoped>\n",
       "    .dataframe tbody tr th:only-of-type {\n",
       "        vertical-align: middle;\n",
       "    }\n",
       "\n",
       "    .dataframe tbody tr th {\n",
       "        vertical-align: top;\n",
       "    }\n",
       "\n",
       "    .dataframe thead th {\n",
       "        text-align: right;\n",
       "    }\n",
       "</style>\n",
       "<table border=\"1\" class=\"dataframe\">\n",
       "  <thead>\n",
       "    <tr style=\"text-align: right;\">\n",
       "      <th></th>\n",
       "      <th>ID</th>\n",
       "      <th>Gender</th>\n",
       "      <th>Age</th>\n",
       "      <th>Region_Code</th>\n",
       "      <th>Occupation</th>\n",
       "      <th>Channel_Code</th>\n",
       "      <th>Vintage</th>\n",
       "      <th>Credit_Product</th>\n",
       "      <th>Avg_Account_Balance</th>\n",
       "      <th>Is_Active</th>\n",
       "      <th>Is_Lead</th>\n",
       "      <th>Serial_Number</th>\n",
       "    </tr>\n",
       "  </thead>\n",
       "  <tbody>\n",
       "    <tr>\n",
       "      <th>1995</th>\n",
       "      <td>R8X3WVEH</td>\n",
       "      <td>Female</td>\n",
       "      <td>85</td>\n",
       "      <td>RG261</td>\n",
       "      <td>Other</td>\n",
       "      <td>X2</td>\n",
       "      <td>45</td>\n",
       "      <td>No</td>\n",
       "      <td>1648742</td>\n",
       "      <td>Yes</td>\n",
       "      <td>0</td>\n",
       "      <td>1996</td>\n",
       "    </tr>\n",
       "    <tr>\n",
       "      <th>1996</th>\n",
       "      <td>YD88FRVI</td>\n",
       "      <td>Male</td>\n",
       "      <td>55</td>\n",
       "      <td>RG280</td>\n",
       "      <td>Self_Employed</td>\n",
       "      <td>X3</td>\n",
       "      <td>97</td>\n",
       "      <td>No</td>\n",
       "      <td>511803</td>\n",
       "      <td>Yes</td>\n",
       "      <td>0</td>\n",
       "      <td>1997</td>\n",
       "    </tr>\n",
       "    <tr>\n",
       "      <th>1997</th>\n",
       "      <td>MTKQDYRB</td>\n",
       "      <td>Male</td>\n",
       "      <td>57</td>\n",
       "      <td>RG281</td>\n",
       "      <td>Self_Employed</td>\n",
       "      <td>X2</td>\n",
       "      <td>39</td>\n",
       "      <td>No</td>\n",
       "      <td>667695</td>\n",
       "      <td>No</td>\n",
       "      <td>0</td>\n",
       "      <td>1998</td>\n",
       "    </tr>\n",
       "    <tr>\n",
       "      <th>1998</th>\n",
       "      <td>NN4ARGB5</td>\n",
       "      <td>Male</td>\n",
       "      <td>49</td>\n",
       "      <td>RG256</td>\n",
       "      <td>Self_Employed</td>\n",
       "      <td>X2</td>\n",
       "      <td>19</td>\n",
       "      <td>NaN</td>\n",
       "      <td>1044886</td>\n",
       "      <td>Yes</td>\n",
       "      <td>1</td>\n",
       "      <td>1999</td>\n",
       "    </tr>\n",
       "    <tr>\n",
       "      <th>1999</th>\n",
       "      <td>JVYKRBKG</td>\n",
       "      <td>Male</td>\n",
       "      <td>85</td>\n",
       "      <td>RG268</td>\n",
       "      <td>Other</td>\n",
       "      <td>X3</td>\n",
       "      <td>98</td>\n",
       "      <td>Yes</td>\n",
       "      <td>379852</td>\n",
       "      <td>No</td>\n",
       "      <td>0</td>\n",
       "      <td>2000</td>\n",
       "    </tr>\n",
       "  </tbody>\n",
       "</table>\n",
       "</div>"
      ],
      "text/plain": [
       "            ID  Gender  Age Region_Code     Occupation Channel_Code  Vintage  \\\n",
       "1995  R8X3WVEH  Female   85       RG261          Other           X2       45   \n",
       "1996  YD88FRVI    Male   55       RG280  Self_Employed           X3       97   \n",
       "1997  MTKQDYRB    Male   57       RG281  Self_Employed           X2       39   \n",
       "1998  NN4ARGB5    Male   49       RG256  Self_Employed           X2       19   \n",
       "1999  JVYKRBKG    Male   85       RG268          Other           X3       98   \n",
       "\n",
       "     Credit_Product  Avg_Account_Balance Is_Active  Is_Lead  Serial_Number  \n",
       "1995             No              1648742       Yes        0           1996  \n",
       "1996             No               511803       Yes        0           1997  \n",
       "1997             No               667695        No        0           1998  \n",
       "1998            NaN              1044886       Yes        1           1999  \n",
       "1999            Yes               379852        No        0           2000  "
      ]
     },
     "execution_count": 6,
     "metadata": {},
     "output_type": "execute_result"
    }
   ],
   "source": [
    "train_dup.tail()"
   ]
  },
  {
   "cell_type": "code",
   "execution_count": 7,
   "id": "8523a7bc-2dff-4edd-b6a8-84c128c3e4dd",
   "metadata": {
    "colab": {
     "base_uri": "https://localhost:8080/",
     "height": 300
    },
    "executionInfo": {
     "elapsed": 22,
     "status": "ok",
     "timestamp": 1718553771927,
     "user": {
      "displayName": "Shivam Parab",
      "userId": "05874345986381932168"
     },
     "user_tz": -330
    },
    "id": "8523a7bc-2dff-4edd-b6a8-84c128c3e4dd",
    "outputId": "f583732d-1d66-425e-86d4-805135db0e85"
   },
   "outputs": [
    {
     "data": {
      "text/html": [
       "<div>\n",
       "<style scoped>\n",
       "    .dataframe tbody tr th:only-of-type {\n",
       "        vertical-align: middle;\n",
       "    }\n",
       "\n",
       "    .dataframe tbody tr th {\n",
       "        vertical-align: top;\n",
       "    }\n",
       "\n",
       "    .dataframe thead th {\n",
       "        text-align: right;\n",
       "    }\n",
       "</style>\n",
       "<table border=\"1\" class=\"dataframe\">\n",
       "  <thead>\n",
       "    <tr style=\"text-align: right;\">\n",
       "      <th></th>\n",
       "      <th>Age</th>\n",
       "      <th>Vintage</th>\n",
       "      <th>Avg_Account_Balance</th>\n",
       "      <th>Is_Lead</th>\n",
       "      <th>Serial_Number</th>\n",
       "    </tr>\n",
       "  </thead>\n",
       "  <tbody>\n",
       "    <tr>\n",
       "      <th>count</th>\n",
       "      <td>2000.000000</td>\n",
       "      <td>2000.000000</td>\n",
       "      <td>2.000000e+03</td>\n",
       "      <td>2000.000000</td>\n",
       "      <td>2000.000000</td>\n",
       "    </tr>\n",
       "    <tr>\n",
       "      <th>mean</th>\n",
       "      <td>43.682500</td>\n",
       "      <td>46.071000</td>\n",
       "      <td>1.103683e+06</td>\n",
       "      <td>0.238000</td>\n",
       "      <td>1000.500000</td>\n",
       "    </tr>\n",
       "    <tr>\n",
       "      <th>std</th>\n",
       "      <td>14.730281</td>\n",
       "      <td>31.915549</td>\n",
       "      <td>8.212390e+05</td>\n",
       "      <td>0.425966</td>\n",
       "      <td>577.494589</td>\n",
       "    </tr>\n",
       "    <tr>\n",
       "      <th>min</th>\n",
       "      <td>24.000000</td>\n",
       "      <td>7.000000</td>\n",
       "      <td>1.416430e+05</td>\n",
       "      <td>0.000000</td>\n",
       "      <td>1.000000</td>\n",
       "    </tr>\n",
       "    <tr>\n",
       "      <th>25%</th>\n",
       "      <td>30.000000</td>\n",
       "      <td>20.000000</td>\n",
       "      <td>6.012835e+05</td>\n",
       "      <td>0.000000</td>\n",
       "      <td>500.750000</td>\n",
       "    </tr>\n",
       "    <tr>\n",
       "      <th>50%</th>\n",
       "      <td>43.000000</td>\n",
       "      <td>32.000000</td>\n",
       "      <td>8.785320e+05</td>\n",
       "      <td>0.000000</td>\n",
       "      <td>1000.500000</td>\n",
       "    </tr>\n",
       "    <tr>\n",
       "      <th>75%</th>\n",
       "      <td>53.000000</td>\n",
       "      <td>69.000000</td>\n",
       "      <td>1.362287e+06</td>\n",
       "      <td>0.000000</td>\n",
       "      <td>1500.250000</td>\n",
       "    </tr>\n",
       "    <tr>\n",
       "      <th>max</th>\n",
       "      <td>85.000000</td>\n",
       "      <td>133.000000</td>\n",
       "      <td>8.256124e+06</td>\n",
       "      <td>1.000000</td>\n",
       "      <td>2000.000000</td>\n",
       "    </tr>\n",
       "  </tbody>\n",
       "</table>\n",
       "</div>"
      ],
      "text/plain": [
       "               Age      Vintage  Avg_Account_Balance      Is_Lead  \\\n",
       "count  2000.000000  2000.000000         2.000000e+03  2000.000000   \n",
       "mean     43.682500    46.071000         1.103683e+06     0.238000   \n",
       "std      14.730281    31.915549         8.212390e+05     0.425966   \n",
       "min      24.000000     7.000000         1.416430e+05     0.000000   \n",
       "25%      30.000000    20.000000         6.012835e+05     0.000000   \n",
       "50%      43.000000    32.000000         8.785320e+05     0.000000   \n",
       "75%      53.000000    69.000000         1.362287e+06     0.000000   \n",
       "max      85.000000   133.000000         8.256124e+06     1.000000   \n",
       "\n",
       "       Serial_Number  \n",
       "count    2000.000000  \n",
       "mean     1000.500000  \n",
       "std       577.494589  \n",
       "min         1.000000  \n",
       "25%       500.750000  \n",
       "50%      1000.500000  \n",
       "75%      1500.250000  \n",
       "max      2000.000000  "
      ]
     },
     "execution_count": 7,
     "metadata": {},
     "output_type": "execute_result"
    }
   ],
   "source": [
    "train_dup.describe()"
   ]
  },
  {
   "cell_type": "code",
   "execution_count": 8,
   "id": "b5e0c5c5-a976-4bf3-bd18-31354b0b03a0",
   "metadata": {
    "colab": {
     "base_uri": "https://localhost:8080/"
    },
    "executionInfo": {
     "elapsed": 21,
     "status": "ok",
     "timestamp": 1718553771927,
     "user": {
      "displayName": "Shivam Parab",
      "userId": "05874345986381932168"
     },
     "user_tz": -330
    },
    "id": "b5e0c5c5-a976-4bf3-bd18-31354b0b03a0",
    "outputId": "e6dab7d1-8996-47d3-a38b-67ab27e41ce9"
   },
   "outputs": [
    {
     "data": {
      "text/plain": [
       "ID                       0\n",
       "Gender                   0\n",
       "Age                      0\n",
       "Region_Code              0\n",
       "Occupation               0\n",
       "Channel_Code             0\n",
       "Vintage                  0\n",
       "Credit_Product         220\n",
       "Avg_Account_Balance      0\n",
       "Is_Active                0\n",
       "Is_Lead                  0\n",
       "Serial_Number            0\n",
       "dtype: int64"
      ]
     },
     "execution_count": 8,
     "metadata": {},
     "output_type": "execute_result"
    }
   ],
   "source": [
    "train_dup.isnull().sum()"
   ]
  },
  {
   "cell_type": "code",
   "execution_count": 9,
   "id": "4060b6dc-d2b0-44c2-886f-5e3c23208ddf",
   "metadata": {
    "colab": {
     "base_uri": "https://localhost:8080/",
     "height": 455
    },
    "executionInfo": {
     "elapsed": 870,
     "status": "ok",
     "timestamp": 1718553772778,
     "user": {
      "displayName": "Shivam Parab",
      "userId": "05874345986381932168"
     },
     "user_tz": -330
    },
    "id": "4060b6dc-d2b0-44c2-886f-5e3c23208ddf",
    "outputId": "e706c9d3-0a85-4e6d-c1fe-82361fed342b"
   },
   "outputs": [
    {
     "data": {
      "image/png": "[encoded data removed]",
      "text/plain": [
       "<Figure size 640x480 with 1 Axes>"
      ]
     },
     "metadata": {},
     "output_type": "display_data"
    }
   ],
   "source": [
    "sns.countplot(x='Is_Lead', data=train_dup)\n",
    "plt.show()"
   ]
  },
  {
   "cell_type": "code",
   "execution_count": 10,
   "id": "cd90a997-be28-4f1c-9945-2529cf41ef60",
   "metadata": {
    "colab": {
     "base_uri": "https://localhost:8080/",
     "height": 682
    },
    "executionInfo": {
     "elapsed": 1041,
     "status": "ok",
     "timestamp": 1718553773803,
     "user": {
      "displayName": "Shivam Parab",
      "userId": "05874345986381932168"
     },
     "user_tz": -330
    },
    "id": "cd90a997-be28-4f1c-9945-2529cf41ef60",
    "outputId": "4d913509-4bf9-4e4d-d01c-aa0dd3014e9b"
   },
   "outputs": [
    {
     "data": {
      "image/png": "[encoded data removed]",
      "text/plain": [
       "<Figure size 1200x800 with 2 Axes>"
      ]
     },
     "metadata": {},
     "output_type": "display_data"
    }
   ],
   "source": [
    "numeric_train_dup = train_dup.select_dtypes(include=[np.number])\n",
    "plt.figure(figsize=(12, 8))\n",
    "sns.heatmap(numeric_train_dup.corr(), annot=True, cmap='coolwarm')\n",
    "plt.show()"
   ]
  },
  {
   "cell_type": "code",
   "execution_count": 11,
   "id": "4d91d013-1f51-4824-bb6b-09e3b98d282a",
   "metadata": {
    "colab": {
     "base_uri": "https://localhost:8080/"
    },
    "executionInfo": {
     "elapsed": 24,
     "status": "ok",
     "timestamp": 1718553773804,
     "user": {
      "displayName": "Shivam Parab",
      "userId": "05874345986381932168"
     },
     "user_tz": -330
    },
    "id": "4d91d013-1f51-4824-bb6b-09e3b98d282a",
    "outputId": "6a316559-eeb3-4f13-a2f3-d34236cbbaf9"
   },
   "outputs": [
    {
     "data": {
      "text/plain": [
       "Index(['ID', 'Gender', 'Age', 'Region_Code', 'Occupation', 'Channel_Code',\n",
       "       'Vintage', 'Credit_Product', 'Avg_Account_Balance', 'Is_Active',\n",
       "       'Is_Lead', 'Serial_Number'],\n",
       "      dtype='object')"
      ]
     },
     "execution_count": 11,
     "metadata": {},
     "output_type": "execute_result"
    }
   ],
   "source": [
    "train_dup.columns"
   ]
  },
  {
   "cell_type": "markdown",
   "id": "043c3136",
   "metadata": {},
   "source": [
    "Converting \"Categorical Variables\" in 'train_dup' DataFrame into numerical values through One-Hot Encoding.\n",
    "\n",
    "Most real-life datasets we encounter during our data science project development have columns of mixed data type. These datasets consist of both categorical as well as numerical columns. However, various Machine Learning models do not work with categorical data and to fit this data into the machine learning model it needs to be converted into numerical data."
   ]
  },
  {
   "cell_type": "code",
   "execution_count": 12,
   "id": "d3cb488b-6f1d-45be-ab0d-59b7d70efc96",
   "metadata": {
    "executionInfo": {
     "elapsed": 23,
     "status": "ok",
     "timestamp": 1718553773804,
     "user": {
      "displayName": "Shivam Parab",
      "userId": "05874345986381932168"
     },
     "user_tz": -330
    },
    "id": "d3cb488b-6f1d-45be-ab0d-59b7d70efc96"
   },
   "outputs": [],
   "source": [
    "#train_dup_encoded = pd.get_dummies(train_dup[['ID', 'Gender', 'Age', 'Region_Code', 'Occupation', 'Channel_Code', 'Vintage', 'Credit_Product', 'Avg_Account_Balance', 'Is_Active', 'Is_Lead']], drop_first=True)"
   ]
  },
  {
   "cell_type": "code",
   "execution_count": 13,
   "id": "ba717d12-50a2-457a-bf7a-4afe7ff96efe",
   "metadata": {
    "executionInfo": {
     "elapsed": 23,
     "status": "ok",
     "timestamp": 1718553773804,
     "user": {
      "displayName": "Shivam Parab",
      "userId": "05874345986381932168"
     },
     "user_tz": -330
    },
    "id": "ba717d12-50a2-457a-bf7a-4afe7ff96efe"
   },
   "outputs": [],
   "source": [
    "train_dup = pd.get_dummies(train_dup, drop_first=True)"
   ]
  },
  {
   "cell_type": "code",
   "execution_count": 14,
   "id": "312d4349-a7a4-41de-99e0-c9c83b29f356",
   "metadata": {
    "colab": {
     "base_uri": "https://localhost:8080/"
    },
    "executionInfo": {
     "elapsed": 23,
     "status": "ok",
     "timestamp": 1718553773804,
     "user": {
      "displayName": "Shivam Parab",
      "userId": "05874345986381932168"
     },
     "user_tz": -330
    },
    "id": "312d4349-a7a4-41de-99e0-c9c83b29f356",
    "outputId": "da0075eb-47d1-4533-e22d-b7afd8dec55d"
   },
   "outputs": [
    {
     "data": {
      "text/plain": [
       "(2000, 2047)"
      ]
     },
     "execution_count": 14,
     "metadata": {},
     "output_type": "execute_result"
    }
   ],
   "source": [
    "train_dup.shape"
   ]
  },
  {
   "cell_type": "code",
   "execution_count": 15,
   "id": "3c4d7665-39a5-4471-9335-60c3ca56a01b",
   "metadata": {
    "colab": {
     "base_uri": "https://localhost:8080/",
     "height": 443
    },
    "executionInfo": {
     "elapsed": 22,
     "status": "ok",
     "timestamp": 1718553773804,
     "user": {
      "displayName": "Shivam Parab",
      "userId": "05874345986381932168"
     },
     "user_tz": -330
    },
    "id": "3c4d7665-39a5-4471-9335-60c3ca56a01b",
    "outputId": "b3f33eef-bd3d-4d36-ba53-76ab8d82dda1"
   },
   "outputs": [
    {
     "data": {
      "text/html": [
       "<div>\n",
       "<style scoped>\n",
       "    .dataframe tbody tr th:only-of-type {\n",
       "        vertical-align: middle;\n",
       "    }\n",
       "\n",
       "    .dataframe tbody tr th {\n",
       "        vertical-align: top;\n",
       "    }\n",
       "\n",
       "    .dataframe thead th {\n",
       "        text-align: right;\n",
       "    }\n",
       "</style>\n",
       "<table border=\"1\" class=\"dataframe\">\n",
       "  <thead>\n",
       "    <tr style=\"text-align: right;\">\n",
       "      <th></th>\n",
       "      <th>Age</th>\n",
       "      <th>Vintage</th>\n",
       "      <th>Avg_Account_Balance</th>\n",
       "      <th>Is_Lead</th>\n",
       "      <th>Serial_Number</th>\n",
       "      <th>ID_245FELDT</th>\n",
       "      <th>ID_24TWNPYJ</th>\n",
       "      <th>ID_25GBTWNE</th>\n",
       "      <th>ID_26IVNPEJ</th>\n",
       "      <th>ID_26JMFBCU</th>\n",
       "      <th>...</th>\n",
       "      <th>Region_Code_RG283</th>\n",
       "      <th>Region_Code_RG284</th>\n",
       "      <th>Occupation_Other</th>\n",
       "      <th>Occupation_Salaried</th>\n",
       "      <th>Occupation_Self_Employed</th>\n",
       "      <th>Channel_Code_X2</th>\n",
       "      <th>Channel_Code_X3</th>\n",
       "      <th>Channel_Code_X4</th>\n",
       "      <th>Credit_Product_Yes</th>\n",
       "      <th>Is_Active_Yes</th>\n",
       "    </tr>\n",
       "  </thead>\n",
       "  <tbody>\n",
       "    <tr>\n",
       "      <th>0</th>\n",
       "      <td>73</td>\n",
       "      <td>43</td>\n",
       "      <td>1045696</td>\n",
       "      <td>0</td>\n",
       "      <td>1</td>\n",
       "      <td>False</td>\n",
       "      <td>False</td>\n",
       "      <td>False</td>\n",
       "      <td>False</td>\n",
       "      <td>False</td>\n",
       "      <td>...</td>\n",
       "      <td>False</td>\n",
       "      <td>False</td>\n",
       "      <td>True</td>\n",
       "      <td>False</td>\n",
       "      <td>False</td>\n",
       "      <td>False</td>\n",
       "      <td>True</td>\n",
       "      <td>False</td>\n",
       "      <td>False</td>\n",
       "      <td>False</td>\n",
       "    </tr>\n",
       "    <tr>\n",
       "      <th>1</th>\n",
       "      <td>30</td>\n",
       "      <td>32</td>\n",
       "      <td>581988</td>\n",
       "      <td>0</td>\n",
       "      <td>2</td>\n",
       "      <td>False</td>\n",
       "      <td>False</td>\n",
       "      <td>False</td>\n",
       "      <td>False</td>\n",
       "      <td>False</td>\n",
       "      <td>...</td>\n",
       "      <td>False</td>\n",
       "      <td>False</td>\n",
       "      <td>False</td>\n",
       "      <td>True</td>\n",
       "      <td>False</td>\n",
       "      <td>False</td>\n",
       "      <td>False</td>\n",
       "      <td>False</td>\n",
       "      <td>False</td>\n",
       "      <td>False</td>\n",
       "    </tr>\n",
       "    <tr>\n",
       "      <th>2</th>\n",
       "      <td>56</td>\n",
       "      <td>26</td>\n",
       "      <td>1484315</td>\n",
       "      <td>0</td>\n",
       "      <td>3</td>\n",
       "      <td>False</td>\n",
       "      <td>False</td>\n",
       "      <td>False</td>\n",
       "      <td>False</td>\n",
       "      <td>False</td>\n",
       "      <td>...</td>\n",
       "      <td>False</td>\n",
       "      <td>False</td>\n",
       "      <td>False</td>\n",
       "      <td>False</td>\n",
       "      <td>True</td>\n",
       "      <td>False</td>\n",
       "      <td>True</td>\n",
       "      <td>False</td>\n",
       "      <td>False</td>\n",
       "      <td>True</td>\n",
       "    </tr>\n",
       "    <tr>\n",
       "      <th>3</th>\n",
       "      <td>34</td>\n",
       "      <td>19</td>\n",
       "      <td>470454</td>\n",
       "      <td>0</td>\n",
       "      <td>4</td>\n",
       "      <td>False</td>\n",
       "      <td>False</td>\n",
       "      <td>False</td>\n",
       "      <td>False</td>\n",
       "      <td>False</td>\n",
       "      <td>...</td>\n",
       "      <td>False</td>\n",
       "      <td>False</td>\n",
       "      <td>False</td>\n",
       "      <td>True</td>\n",
       "      <td>False</td>\n",
       "      <td>False</td>\n",
       "      <td>False</td>\n",
       "      <td>False</td>\n",
       "      <td>False</td>\n",
       "      <td>False</td>\n",
       "    </tr>\n",
       "    <tr>\n",
       "      <th>4</th>\n",
       "      <td>30</td>\n",
       "      <td>33</td>\n",
       "      <td>886787</td>\n",
       "      <td>0</td>\n",
       "      <td>5</td>\n",
       "      <td>False</td>\n",
       "      <td>False</td>\n",
       "      <td>False</td>\n",
       "      <td>False</td>\n",
       "      <td>False</td>\n",
       "      <td>...</td>\n",
       "      <td>False</td>\n",
       "      <td>False</td>\n",
       "      <td>False</td>\n",
       "      <td>True</td>\n",
       "      <td>False</td>\n",
       "      <td>False</td>\n",
       "      <td>False</td>\n",
       "      <td>False</td>\n",
       "      <td>False</td>\n",
       "      <td>False</td>\n",
       "    </tr>\n",
       "    <tr>\n",
       "      <th>...</th>\n",
       "      <td>...</td>\n",
       "      <td>...</td>\n",
       "      <td>...</td>\n",
       "      <td>...</td>\n",
       "      <td>...</td>\n",
       "      <td>...</td>\n",
       "      <td>...</td>\n",
       "      <td>...</td>\n",
       "      <td>...</td>\n",
       "      <td>...</td>\n",
       "      <td>...</td>\n",
       "      <td>...</td>\n",
       "      <td>...</td>\n",
       "      <td>...</td>\n",
       "      <td>...</td>\n",
       "      <td>...</td>\n",
       "      <td>...</td>\n",
       "      <td>...</td>\n",
       "      <td>...</td>\n",
       "      <td>...</td>\n",
       "      <td>...</td>\n",
       "    </tr>\n",
       "    <tr>\n",
       "      <th>1995</th>\n",
       "      <td>85</td>\n",
       "      <td>45</td>\n",
       "      <td>1648742</td>\n",
       "      <td>0</td>\n",
       "      <td>1996</td>\n",
       "      <td>False</td>\n",
       "      <td>False</td>\n",
       "      <td>False</td>\n",
       "      <td>False</td>\n",
       "      <td>False</td>\n",
       "      <td>...</td>\n",
       "      <td>False</td>\n",
       "      <td>False</td>\n",
       "      <td>True</td>\n",
       "      <td>False</td>\n",
       "      <td>False</td>\n",
       "      <td>True</td>\n",
       "      <td>False</td>\n",
       "      <td>False</td>\n",
       "      <td>False</td>\n",
       "      <td>True</td>\n",
       "    </tr>\n",
       "    <tr>\n",
       "      <th>1996</th>\n",
       "      <td>55</td>\n",
       "      <td>97</td>\n",
       "      <td>511803</td>\n",
       "      <td>0</td>\n",
       "      <td>1997</td>\n",
       "      <td>False</td>\n",
       "      <td>False</td>\n",
       "      <td>False</td>\n",
       "      <td>False</td>\n",
       "      <td>False</td>\n",
       "      <td>...</td>\n",
       "      <td>False</td>\n",
       "      <td>False</td>\n",
       "      <td>False</td>\n",
       "      <td>False</td>\n",
       "      <td>True</td>\n",
       "      <td>False</td>\n",
       "      <td>True</td>\n",
       "      <td>False</td>\n",
       "      <td>False</td>\n",
       "      <td>True</td>\n",
       "    </tr>\n",
       "    <tr>\n",
       "      <th>1997</th>\n",
       "      <td>57</td>\n",
       "      <td>39</td>\n",
       "      <td>667695</td>\n",
       "      <td>0</td>\n",
       "      <td>1998</td>\n",
       "      <td>False</td>\n",
       "      <td>False</td>\n",
       "      <td>False</td>\n",
       "      <td>False</td>\n",
       "      <td>False</td>\n",
       "      <td>...</td>\n",
       "      <td>False</td>\n",
       "      <td>False</td>\n",
       "      <td>False</td>\n",
       "      <td>False</td>\n",
       "      <td>True</td>\n",
       "      <td>True</td>\n",
       "      <td>False</td>\n",
       "      <td>False</td>\n",
       "      <td>False</td>\n",
       "      <td>False</td>\n",
       "    </tr>\n",
       "    <tr>\n",
       "      <th>1998</th>\n",
       "      <td>49</td>\n",
       "      <td>19</td>\n",
       "      <td>1044886</td>\n",
       "      <td>1</td>\n",
       "      <td>1999</td>\n",
       "      <td>False</td>\n",
       "      <td>False</td>\n",
       "      <td>False</td>\n",
       "      <td>False</td>\n",
       "      <td>False</td>\n",
       "      <td>...</td>\n",
       "      <td>False</td>\n",
       "      <td>False</td>\n",
       "      <td>False</td>\n",
       "      <td>False</td>\n",
       "      <td>True</td>\n",
       "      <td>True</td>\n",
       "      <td>False</td>\n",
       "      <td>False</td>\n",
       "      <td>False</td>\n",
       "      <td>True</td>\n",
       "    </tr>\n",
       "    <tr>\n",
       "      <th>1999</th>\n",
       "      <td>85</td>\n",
       "      <td>98</td>\n",
       "      <td>379852</td>\n",
       "      <td>0</td>\n",
       "      <td>2000</td>\n",
       "      <td>False</td>\n",
       "      <td>False</td>\n",
       "      <td>False</td>\n",
       "      <td>False</td>\n",
       "      <td>False</td>\n",
       "      <td>...</td>\n",
       "      <td>False</td>\n",
       "      <td>False</td>\n",
       "      <td>True</td>\n",
       "      <td>False</td>\n",
       "      <td>False</td>\n",
       "      <td>False</td>\n",
       "      <td>True</td>\n",
       "      <td>False</td>\n",
       "      <td>True</td>\n",
       "      <td>False</td>\n",
       "    </tr>\n",
       "  </tbody>\n",
       "</table>\n",
       "<p>2000 rows × 2047 columns</p>\n",
       "</div>"
      ],
      "text/plain": [
       "      Age  Vintage  Avg_Account_Balance  Is_Lead  Serial_Number  ID_245FELDT  \\\n",
       "0      73       43              1045696        0              1        False   \n",
       "1      30       32               581988        0              2        False   \n",
       "2      56       26              1484315        0              3        False   \n",
       "3      34       19               470454        0              4        False   \n",
       "4      30       33               886787        0              5        False   \n",
       "...   ...      ...                  ...      ...            ...          ...   \n",
       "1995   85       45              1648742        0           1996        False   \n",
       "1996   55       97               511803        0           1997        False   \n",
       "1997   57       39               667695        0           1998        False   \n",
       "1998   49       19              1044886        1           1999        False   \n",
       "1999   85       98               379852        0           2000        False   \n",
       "\n",
       "      ID_24TWNPYJ  ID_25GBTWNE  ID_26IVNPEJ  ID_26JMFBCU  ...  \\\n",
       "0           False        False        False        False  ...   \n",
       "1           False        False        False        False  ...   \n",
       "2           False        False        False        False  ...   \n",
       "3           False        False        False        False  ...   \n",
       "4           False        False        False        False  ...   \n",
       "...           ...          ...          ...          ...  ...   \n",
       "1995        False        False        False        False  ...   \n",
       "1996        False        False        False        False  ...   \n",
       "1997        False        False        False        False  ...   \n",
       "1998        False        False        False        False  ...   \n",
       "1999        False        False        False        False  ...   \n",
       "\n",
       "      Region_Code_RG283  Region_Code_RG284  Occupation_Other  \\\n",
       "0                 False              False              True   \n",
       "1                 False              False             False   \n",
       "2                 False              False             False   \n",
       "3                 False              False             False   \n",
       "4                 False              False             False   \n",
       "...                 ...                ...               ...   \n",
       "1995              False              False              True   \n",
       "1996              False              False             False   \n",
       "1997              False              False             False   \n",
       "1998              False              False             False   \n",
       "1999              False              False              True   \n",
       "\n",
       "      Occupation_Salaried  Occupation_Self_Employed  Channel_Code_X2  \\\n",
       "0                   False                     False            False   \n",
       "1                    True                     False            False   \n",
       "2                   False                      True            False   \n",
       "3                    True                     False            False   \n",
       "4                    True                     False            False   \n",
       "...                   ...                       ...              ...   \n",
       "1995                False                     False             True   \n",
       "1996                False                      True            False   \n",
       "1997                False                      True             True   \n",
       "1998                False                      True             True   \n",
       "1999                False                     False            False   \n",
       "\n",
       "      Channel_Code_X3  Channel_Code_X4  Credit_Product_Yes  Is_Active_Yes  \n",
       "0                True            False               False          False  \n",
       "1               False            False               False          False  \n",
       "2                True            False               False           True  \n",
       "3               False            False               False          False  \n",
       "4               False            False               False          False  \n",
       "...               ...              ...                 ...            ...  \n",
       "1995            False            False               False           True  \n",
       "1996             True            False               False           True  \n",
       "1997            False            False               False          False  \n",
       "1998            False            False               False           True  \n",
       "1999             True            False                True          False  \n",
       "\n",
       "[2000 rows x 2047 columns]"
      ]
     },
     "execution_count": 15,
     "metadata": {},
     "output_type": "execute_result"
    }
   ],
   "source": [
    "train_dup"
   ]
  },
  {
   "cell_type": "code",
   "execution_count": 16,
   "id": "8562c77b-3a22-4869-a0ce-95afe4c40999",
   "metadata": {
    "executionInfo": {
     "elapsed": 673,
     "status": "ok",
     "timestamp": 1718553774457,
     "user": {
      "displayName": "Shivam Parab",
      "userId": "05874345986381932168"
     },
     "user_tz": -330
    },
    "id": "8562c77b-3a22-4869-a0ce-95afe4c40999"
   },
   "outputs": [],
   "source": [
    "# Splitting the data into Features and Targets.\n",
    "x_train = train_dup.drop('Is_Lead', axis=1)\n",
    "y_train = train_dup['Is_Lead']\n",
    "\n",
    "# Splitting the data in Trainging and Testing Datasets.\n",
    "x_train, x_test, y_train, y_test = train_test_split(x_train, y_train, test_size=400, random_state=42)"
   ]
  },
  {
   "cell_type": "markdown",
   "id": "19b37db8",
   "metadata": {},
   "source": [
    "We standardise features to ensure they have a mean of 0 and a standard deviation of 1, bringing all features to the same scale. This improves the performance and convergence speed of many machine learning algorithms. It also reduces the impact of outliers and ensures that no single feature dominates the model. \n",
    "\n",
    "Standardisation enhances the interpretability of model coefficients by making features comparable."
   ]
  },
  {
   "cell_type": "code",
   "execution_count": 17,
   "id": "97f9a4c0-c398-4cf6-8259-d2f02112d73c",
   "metadata": {
    "executionInfo": {
     "elapsed": 11,
     "status": "ok",
     "timestamp": 1718553774457,
     "user": {
      "displayName": "Shivam Parab",
      "userId": "05874345986381932168"
     },
     "user_tz": -330
    },
    "id": "97f9a4c0-c398-4cf6-8259-d2f02112d73c"
   },
   "outputs": [],
   "source": [
    "# Standardising the features\n",
    "scaler = StandardScaler()\n",
    "train_dup = scaler.fit_transform(train_dup)\n"
   ]
  },
  {
   "cell_type": "code",
   "execution_count": 18,
   "id": "4577892f-1bba-42e4-9a86-aa26158bc3b0",
   "metadata": {
    "colab": {
     "base_uri": "https://localhost:8080/"
    },
    "executionInfo": {
     "elapsed": 11,
     "status": "ok",
     "timestamp": 1718553774457,
     "user": {
      "displayName": "Shivam Parab",
      "userId": "05874345986381932168"
     },
     "user_tz": -330
    },
    "id": "4577892f-1bba-42e4-9a86-aa26158bc3b0",
    "outputId": "3661a3b6-ea14-4fef-acf7-7aa6cdce891d"
   },
   "outputs": [
    {
     "name": "stdout",
     "output_type": "stream",
     "text": [
      "x_train shape (1600, 2046)\n",
      "x_test shape (400, 2046)\n",
      "y_train shape (1600,)\n",
      "y_test shape (400,)\n"
     ]
    }
   ],
   "source": [
    "print(\"x_train shape\", x_train.shape)\n",
    "print(\"x_test shape\", x_test.shape)\n",
    "print(\"y_train shape\", y_train.shape)\n",
    "print(\"y_test shape\", y_test.shape)"
   ]
  },
  {
   "cell_type": "markdown",
   "id": "0081b80b",
   "metadata": {},
   "source": [
    "Training the Machine Learning Models and reviewing their performance."
   ]
  },
  {
   "cell_type": "code",
   "execution_count": 19,
   "id": "51006729-a056-4b56-b584-5d54de4d6f77",
   "metadata": {
    "colab": {
     "base_uri": "https://localhost:8080/"
    },
    "executionInfo": {
     "elapsed": 10,
     "status": "ok",
     "timestamp": 1718553774457,
     "user": {
      "displayName": "Shivam Parab",
      "userId": "05874345986381932168"
     },
     "user_tz": -330
    },
    "id": "51006729-a056-4b56-b584-5d54de4d6f77",
    "outputId": "150cbd4b-4a06-47d0-8db8-19bd4a1f506c"
   },
   "outputs": [
    {
     "name": "stdout",
     "output_type": "stream",
     "text": [
      "[0 0 0 0 0 0 0 0 0 0 1 0 0 0 0 0 0 0 0 0 0 0 0 0 0 0 0 0 0 0 0 0 0 0 0 0 0\n",
      " 0 0 0 0 0 0 0 0 0 0 0 0 0 0 0 0 0 0 0 0 0 0 0 0 0 0 0 0 0 0 0 0 0 0 0 0 0\n",
      " 0 0 0 0 0 0 0 0 1 0 0 0 0 0 0 0 0 0 1 0 0 0 0 0 0 0 0 0 0 0 1 0 1 0 0 0 0\n",
      " 0 0 0 0 0 0 0 0 0 0 0 0 0 0 0 0 0 0 0 0 0 0 0 0 0 0 0 0 0 0 0 0 0 0 1 0 0\n",
      " 1 0 0 0 0 0 0 0 0 0 0 0 0 0 0 0 0 0 0 0 0 0 0 0 0 0 1 0 0 0 0 0 0 0 0 0 0\n",
      " 0 0 0 0 0 0 0 0 1 0 0 0 0 0 0 0 0 0 0 0 0 0 1 0 0 0 0 1 0 0 0 0 0 0 0 0 1\n",
      " 0 0 0 0 0 0 1 0 0 1 0 0 0 0 0 0 0 0 0 0 0 0 0 0 0 0 0 0 0 0 0 0 0 1 1 0 0\n",
      " 1 0 0 0 0 1 0 0 1 0 0 0 0 0 0 0 0 0 0 0 0 0 0 0 0 0 0 0 0 0 0 0 0 0 0 0 0\n",
      " 1 0 0 0 0 0 0 0 0 0 0 0 0 0 0 0 0 0 0 0 0 0 0 0 0 0 0 1 0 0 0 1 0 1 1 0 0\n",
      " 0 1 0 0 0 0 0 1 1 0 0 0 0 0 0 0 0 0 0 0 0 1 0 0 0 0 0 1 0 0 0 1 0 0 0 0 0\n",
      " 0 0 0 0 0 0 0 0 0 0 0 0 0 0 0 0 0 0 0 0 1 0 0 0 0 0 0 0 0 1]\n"
     ]
    }
   ],
   "source": [
    "model_LR = LogisticRegression().fit(x_train, y_train)\n",
    "\n",
    "LR_pred = model_LR.predict(x_test)\n",
    "print(LR_pred)"
   ]
  },
  {
   "cell_type": "code",
   "execution_count": 20,
   "id": "71472377-9033-4b32-9f4e-9653ad3be99b",
   "metadata": {
    "colab": {
     "base_uri": "https://localhost:8080/"
    },
    "executionInfo": {
     "elapsed": 9,
     "status": "ok",
     "timestamp": 1718553774457,
     "user": {
      "displayName": "Shivam Parab",
      "userId": "05874345986381932168"
     },
     "user_tz": -330
    },
    "id": "71472377-9033-4b32-9f4e-9653ad3be99b",
    "outputId": "eeffe970-5c09-4280-c4c6-a6ef70a8a56b"
   },
   "outputs": [
    {
     "name": "stdout",
     "output_type": "stream",
     "text": [
      "[[292  17]\n",
      " [ 76  15]]\n",
      "77.0\n"
     ]
    }
   ],
   "source": [
    "print(confusion_matrix(y_test, LR_pred))\n",
    "print(round(accuracy_score(y_test, LR_pred),2)*100)"
   ]
  },
  {
   "cell_type": "code",
   "execution_count": 21,
   "id": "dfd8c12c-5ebf-4730-966f-d974d3f3e17a",
   "metadata": {
    "executionInfo": {
     "elapsed": 7,
     "status": "ok",
     "timestamp": 1718553774457,
     "user": {
      "displayName": "Shivam Parab",
      "userId": "05874345986381932168"
     },
     "user_tz": -330
    },
    "id": "dfd8c12c-5ebf-4730-966f-d974d3f3e17a"
   },
   "outputs": [],
   "source": [
    "logacc = accuracy_score(y_test, LR_pred)\n",
    "logf1score = f1_score(y_test, LR_pred)\n",
    "logrecall = recall_score(y_test, LR_pred)\n",
    "logbal = balanced_accuracy_score(y_test, LR_pred)"
   ]
  },
  {
   "cell_type": "code",
   "execution_count": 22,
   "id": "164581dc-62b7-4365-9229-778be0e4c36c",
   "metadata": {
    "colab": {
     "base_uri": "https://localhost:8080/",
     "height": 489
    },
    "executionInfo": {
     "elapsed": 1737,
     "status": "ok",
     "timestamp": 1718553776188,
     "user": {
      "displayName": "Shivam Parab",
      "userId": "05874345986381932168"
     },
     "user_tz": -330
    },
    "id": "164581dc-62b7-4365-9229-778be0e4c36c",
    "outputId": "408f6aaf-ed62-46e9-afde-b54d6a3c3e13"
   },
   "outputs": [
    {
     "data": {
      "image/png": "[encoded data removed]",
      "text/plain": [
       "<Figure size 640x480 with 1 Axes>"
      ]
     },
     "metadata": {},
     "output_type": "display_data"
    },
    {
     "name": "stdout",
     "output_type": "stream",
     "text": [
      "AUC-ROC : 0.6820655073082257\n"
     ]
    }
   ],
   "source": [
    "def plot_roc_curve(fpr, tpr):\n",
    "    plt.plot(fpr, tpr, color='orange', label='ROC')\n",
    "    plt.plot([0, 1], [0, 1], color='darkblue', linestyle='--')\n",
    "    plt.xlabel('False Positive Rate')\n",
    "    plt.ylabel('True Positive Rate')\n",
    "    plt.title('Receiver Operating Characteristic (ROC) Curve')\n",
    "    plt.legend()\n",
    "    plt.show()\n",
    "probs = model_LR.predict_proba(x_test)\n",
    "probs = probs[:, 1]\n",
    "lrauc = roc_auc_score(y_test, probs)\n",
    "fpr, tpr, thresholds = roc_curve(y_test, probs)\n",
    "plot_roc_curve(fpr, tpr)\n",
    "print(\"AUC-ROC :\",lrauc)"
   ]
  },
  {
   "cell_type": "code",
   "execution_count": 23,
   "id": "d790da73-c00e-4c32-8976-faf9f5a4cb52",
   "metadata": {
    "colab": {
     "base_uri": "https://localhost:8080/"
    },
    "executionInfo": {
     "elapsed": 24,
     "status": "ok",
     "timestamp": 1718553776189,
     "user": {
      "displayName": "Shivam Parab",
      "userId": "05874345986381932168"
     },
     "user_tz": -330
    },
    "id": "d790da73-c00e-4c32-8976-faf9f5a4cb52",
    "outputId": "75cf3a67-e2a3-4bbc-dc18-b67449fdea3a"
   },
   "outputs": [
    {
     "name": "stdout",
     "output_type": "stream",
     "text": [
      "[0 0 0 0 0 0 0 0 0 0 0 0 0 0 0 0 0 0 0 0 0 0 0 0 0 0 0 0 0 0 0 0 0 0 0 0 0\n",
      " 0 0 0 0 0 0 0 0 0 0 0 0 0 0 0 0 0 0 1 0 0 0 0 0 0 0 0 0 0 0 0 0 0 0 0 0 0\n",
      " 0 0 0 0 0 0 0 0 0 0 0 0 0 0 0 0 0 0 0 0 0 0 0 0 0 0 0 0 0 0 0 0 0 0 0 0 0\n",
      " 0 0 0 0 0 0 0 0 0 0 0 0 0 0 0 0 0 0 0 0 0 0 0 0 0 0 0 0 0 0 0 0 0 0 0 0 0\n",
      " 0 0 0 0 0 0 0 0 0 0 0 0 0 0 0 0 0 0 0 0 0 0 0 0 0 0 1 0 0 0 0 0 0 0 0 0 0\n",
      " 0 0 0 0 0 0 0 0 1 0 0 0 0 0 0 0 0 0 0 0 0 0 1 0 0 0 0 0 0 0 0 0 0 0 0 0 0\n",
      " 0 0 0 0 0 0 0 0 0 0 0 0 0 0 0 0 0 0 0 0 0 0 0 0 0 0 0 0 0 0 0 0 0 0 1 0 0\n",
      " 0 0 0 0 0 0 0 0 0 0 0 0 0 0 0 0 0 0 0 0 0 0 0 0 0 0 0 0 0 0 0 0 0 0 0 0 0\n",
      " 0 0 0 0 0 0 0 0 0 0 0 0 0 0 0 0 0 0 0 0 0 0 0 0 0 0 0 0 0 0 0 0 0 0 0 0 0\n",
      " 0 0 0 0 0 0 0 0 0 0 0 0 0 0 0 0 0 0 0 0 0 0 0 0 0 0 0 0 0 0 0 0 0 0 0 0 0\n",
      " 0 0 0 0 0 0 0 0 0 0 0 0 0 0 0 0 0 0 0 0 0 0 0 0 0 0 0 0 0 0]\n"
     ]
    }
   ],
   "source": [
    "nb = GaussianNB().fit(x_train, y_train)\n",
    "\n",
    "nb_pred = nb.predict(x_test)\n",
    "print(nb_pred)"
   ]
  },
  {
   "cell_type": "code",
   "execution_count": 24,
   "id": "3fb265e0-3c9f-42cc-ad93-dd1c7f79d340",
   "metadata": {
    "colab": {
     "base_uri": "https://localhost:8080/"
    },
    "executionInfo": {
     "elapsed": 20,
     "status": "ok",
     "timestamp": 1718553776189,
     "user": {
      "displayName": "Shivam Parab",
      "userId": "05874345986381932168"
     },
     "user_tz": -330
    },
    "id": "3fb265e0-3c9f-42cc-ad93-dd1c7f79d340",
    "outputId": "c4b2b676-7eb1-4dce-9382-32b408644bf4"
   },
   "outputs": [
    {
     "name": "stdout",
     "output_type": "stream",
     "text": [
      "[[305   4]\n",
      " [ 90   1]]\n",
      "77.0\n"
     ]
    }
   ],
   "source": [
    "print(confusion_matrix(y_test, nb_pred))\n",
    "print(round(accuracy_score(y_test, nb_pred),2)*100)"
   ]
  },
  {
   "cell_type": "code",
   "execution_count": 25,
   "id": "006cb94d-bf60-4d6a-b1f4-4c63a0010afb",
   "metadata": {
    "executionInfo": {
     "elapsed": 18,
     "status": "ok",
     "timestamp": 1718553776189,
     "user": {
      "displayName": "Shivam Parab",
      "userId": "05874345986381932168"
     },
     "user_tz": -330
    },
    "id": "006cb94d-bf60-4d6a-b1f4-4c63a0010afb"
   },
   "outputs": [],
   "source": [
    "nbacc = accuracy_score(y_test, nb_pred)\n",
    "nbf1score = f1_score(y_test, nb_pred)\n",
    "nbrecall = recall_score(y_test, nb_pred)\n",
    "nbbal = balanced_accuracy_score(y_test, nb_pred)"
   ]
  },
  {
   "cell_type": "code",
   "execution_count": 26,
   "id": "ac39e027-4e39-4540-9dcf-28d933b6df12",
   "metadata": {
    "colab": {
     "base_uri": "https://localhost:8080/",
     "height": 489
    },
    "executionInfo": {
     "elapsed": 1457,
     "status": "ok",
     "timestamp": 1718553777629,
     "user": {
      "displayName": "Shivam Parab",
      "userId": "05874345986381932168"
     },
     "user_tz": -330
    },
    "id": "ac39e027-4e39-4540-9dcf-28d933b6df12",
    "outputId": "6ce4a67f-fbdb-4dae-e456-7f91e20b8a4b"
   },
   "outputs": [
    {
     "data": {
      "image/png": "[encoded data removed]",
      "text/plain": [
       "<Figure size 640x480 with 1 Axes>"
      ]
     },
     "metadata": {},
     "output_type": "display_data"
    },
    {
     "name": "stdout",
     "output_type": "stream",
     "text": [
      "AUC-ROC : 0.6776201145133184\n"
     ]
    }
   ],
   "source": [
    "def plot_roc_curve(fpr, tpr):\n",
    "    plt.plot(fpr, tpr, color='orange', label='ROC')\n",
    "    plt.plot([0, 1], [0, 1], color='darkblue', linestyle='--')\n",
    "    plt.xlabel('False Positive Rate')\n",
    "    plt.ylabel('True Positive Rate')\n",
    "    plt.title('Receiver Operating Characteristic (ROC) Curve')\n",
    "    plt.legend()\n",
    "    plt.show()\n",
    "probs = nb.predict_proba(x_test)\n",
    "probs = probs[:, 1]\n",
    "nbauc = roc_auc_score(y_test, probs)\n",
    "fpr, tpr, thresholds = roc_curve(y_test, probs)\n",
    "plot_roc_curve(fpr, tpr)\n",
    "print(\"AUC-ROC :\",nbauc)"
   ]
  },
  {
   "cell_type": "code",
   "execution_count": 27,
   "id": "3a581a02-69bd-40d0-9f1a-7cad56674585",
   "metadata": {
    "colab": {
     "base_uri": "https://localhost:8080/"
    },
    "executionInfo": {
     "elapsed": 37,
     "status": "ok",
     "timestamp": 1718553777630,
     "user": {
      "displayName": "Shivam Parab",
      "userId": "05874345986381932168"
     },
     "user_tz": -330
    },
    "id": "3a581a02-69bd-40d0-9f1a-7cad56674585",
    "outputId": "81e0eeb4-3e65-4210-aae0-5104a7a08e5d"
   },
   "outputs": [
    {
     "name": "stdout",
     "output_type": "stream",
     "text": [
      "[0 0 0 0 0 0 0 0 1 0 1 0 0 0 0 0 0 0 0 0 0 0 0 1 0 0 0 0 0 0 0 0 0 0 0 0 0\n",
      " 0 0 0 0 0 0 0 0 0 0 0 0 0 1 0 0 0 0 0 0 0 0 0 0 1 0 0 0 0 0 0 0 0 0 0 0 0\n",
      " 0 0 0 1 1 0 0 1 0 0 0 0 0 0 0 0 0 0 1 0 0 0 0 0 0 0 1 0 0 0 1 0 0 0 0 0 0\n",
      " 0 0 0 0 1 1 0 1 0 0 0 0 0 0 0 0 0 0 0 0 0 0 0 0 0 0 1 0 0 0 0 0 0 0 1 0 0\n",
      " 0 1 0 1 0 0 0 1 0 0 0 0 0 0 1 0 0 0 0 0 0 0 0 1 0 0 0 0 1 0 0 0 0 0 0 0 0\n",
      " 0 0 0 0 0 0 0 0 0 0 0 1 0 0 0 0 0 0 0 0 0 0 0 0 0 0 0 0 0 1 0 0 0 0 0 0 0\n",
      " 0 0 0 0 0 0 0 0 0 0 0 0 0 0 0 1 0 1 0 0 0 0 0 0 0 0 0 0 0 0 0 0 0 0 0 0 0\n",
      " 1 1 0 0 0 1 1 0 1 0 0 0 0 0 0 1 0 0 1 0 0 0 0 0 0 0 1 0 0 0 0 1 0 0 0 0 0\n",
      " 1 0 0 0 0 0 0 0 0 0 0 0 0 0 0 0 0 0 1 0 0 0 0 1 0 0 0 1 0 0 0 1 0 0 0 0 0\n",
      " 0 0 0 0 0 0 0 0 0 1 0 1 0 1 0 0 0 1 0 0 0 0 0 0 0 0 0 1 0 0 0 0 0 0 0 0 1\n",
      " 0 0 0 0 0 0 0 0 1 0 0 0 0 0 0 0 0 0 1 1 0 0 0 0 0 0 0 1 0 1]\n"
     ]
    }
   ],
   "source": [
    "dtc = DecisionTreeClassifier().fit(x_train, y_train)\n",
    "\n",
    "dtc_pred = dtc.predict(x_test)\n",
    "print(dtc_pred)"
   ]
  },
  {
   "cell_type": "code",
   "execution_count": 28,
   "id": "e95ea8e0-d927-4989-a980-3d512e909c1a",
   "metadata": {
    "colab": {
     "base_uri": "https://localhost:8080/"
    },
    "executionInfo": {
     "elapsed": 31,
     "status": "ok",
     "timestamp": 1718553777630,
     "user": {
      "displayName": "Shivam Parab",
      "userId": "05874345986381932168"
     },
     "user_tz": -330
    },
    "id": "e95ea8e0-d927-4989-a980-3d512e909c1a",
    "outputId": "4cfdc6b0-53b3-4932-e3c5-9e833a879d67"
   },
   "outputs": [
    {
     "name": "stdout",
     "output_type": "stream",
     "text": [
      "[[283  26]\n",
      " [ 66  25]]\n",
      "77.0\n"
     ]
    }
   ],
   "source": [
    "print(confusion_matrix(y_test, dtc_pred))\n",
    "print(round(accuracy_score(y_test, dtc_pred),2)*100)"
   ]
  },
  {
   "cell_type": "code",
   "execution_count": 29,
   "id": "dac5a64b-eec2-4000-a577-4ace92e4a040",
   "metadata": {
    "executionInfo": {
     "elapsed": 28,
     "status": "ok",
     "timestamp": 1718553777630,
     "user": {
      "displayName": "Shivam Parab",
      "userId": "05874345986381932168"
     },
     "user_tz": -330
    },
    "id": "dac5a64b-eec2-4000-a577-4ace92e4a040"
   },
   "outputs": [],
   "source": [
    "dtcacc = accuracy_score(y_test, dtc_pred)\n",
    "dtcf1score = f1_score(y_test, dtc_pred)\n",
    "dtcrecall = recall_score(y_test, dtc_pred)\n",
    "dtcbal = balanced_accuracy_score(y_test, dtc_pred)"
   ]
  },
  {
   "cell_type": "code",
   "execution_count": 30,
   "id": "4280a424-4d0c-4095-951c-aab40485671f",
   "metadata": {
    "colab": {
     "base_uri": "https://localhost:8080/",
     "height": 489
    },
    "executionInfo": {
     "elapsed": 27,
     "status": "ok",
     "timestamp": 1718553777630,
     "user": {
      "displayName": "Shivam Parab",
      "userId": "05874345986381932168"
     },
     "user_tz": -330
    },
    "id": "4280a424-4d0c-4095-951c-aab40485671f",
    "outputId": "9cf0f087-7d27-4bac-c131-49d5fd69ea5d"
   },
   "outputs": [
    {
     "data": {
      "image/png": "[encoded data removed]",
      "text/plain": [
       "<Figure size 640x480 with 1 Axes>"
      ]
     },
     "metadata": {},
     "output_type": "display_data"
    },
    {
     "name": "stdout",
     "output_type": "stream",
     "text": [
      "AUC-ROC : 0.595291439951634\n"
     ]
    }
   ],
   "source": [
    "def plot_roc_curve(fpr, tpr):\n",
    "    plt.plot(fpr, tpr, color='orange', label='ROC')\n",
    "    plt.plot([0, 1], [0, 1], color='darkblue', linestyle='--')\n",
    "    plt.xlabel('False Positive Rate')\n",
    "    plt.ylabel('True Positive Rate')\n",
    "    plt.title('Receiver Operating Characteristic (ROC) Curve')\n",
    "    plt.legend()\n",
    "    plt.show()\n",
    "probs = dtc.predict_proba(x_test)\n",
    "probs = probs[:, 1]\n",
    "dtcauc = roc_auc_score(y_test, probs)\n",
    "fpr, tpr, thresholds = roc_curve(y_test, probs)\n",
    "plot_roc_curve(fpr, tpr)\n",
    "print(\"AUC-ROC :\",dtcauc)"
   ]
  },
  {
   "cell_type": "code",
   "execution_count": 31,
   "id": "dfd3dbae-62aa-4688-ae5c-73431f4e4df4",
   "metadata": {
    "colab": {
     "base_uri": "https://localhost:8080/"
    },
    "executionInfo": {
     "elapsed": 1568,
     "status": "ok",
     "timestamp": 1718553779172,
     "user": {
      "displayName": "Shivam Parab",
      "userId": "05874345986381932168"
     },
     "user_tz": -330
    },
    "id": "dfd3dbae-62aa-4688-ae5c-73431f4e4df4",
    "outputId": "0278dbda-ef84-49b3-dd5b-7c70d740f0c1"
   },
   "outputs": [
    {
     "name": "stdout",
     "output_type": "stream",
     "text": [
      "[0 0 0 0 0 0 0 0 0 0 0 0 0 0 0 0 0 0 0 0 0 0 0 0 0 0 0 0 0 0 0 0 0 0 0 0 0\n",
      " 0 0 0 0 0 0 0 0 0 0 0 0 0 0 0 0 0 0 0 0 0 0 0 0 1 0 0 0 0 0 0 0 0 0 0 0 0\n",
      " 0 0 0 1 0 0 0 0 0 0 0 0 0 0 0 0 0 0 0 0 0 0 0 0 0 0 0 0 0 0 0 0 0 0 0 0 0\n",
      " 0 0 0 0 0 1 0 0 0 0 0 0 0 0 0 0 0 0 0 0 0 0 0 0 0 0 0 0 0 0 0 0 0 0 0 0 0\n",
      " 0 0 0 0 0 0 0 1 0 0 0 0 0 0 0 0 0 0 0 0 0 0 0 0 0 0 1 0 0 0 0 0 0 0 0 0 0\n",
      " 0 0 0 0 0 0 0 0 0 0 0 0 0 0 0 0 0 0 0 0 0 0 0 0 0 0 0 0 0 1 0 0 0 0 0 0 0\n",
      " 0 0 0 0 0 0 0 0 0 0 0 0 0 0 0 0 0 1 0 0 0 0 0 0 0 0 0 0 0 0 0 0 0 0 0 0 0\n",
      " 0 0 0 0 0 0 0 0 0 0 0 0 0 0 0 0 0 0 1 0 0 0 0 0 0 0 0 0 0 0 0 0 0 0 0 0 0\n",
      " 0 0 0 0 0 0 0 0 0 0 0 0 1 0 0 0 0 0 1 0 0 0 0 0 0 0 0 1 0 0 0 1 0 0 0 0 0\n",
      " 0 0 0 0 0 0 0 0 0 0 0 0 0 0 0 0 0 0 0 0 0 0 0 0 0 0 0 0 0 0 0 0 0 0 0 0 0\n",
      " 0 0 0 0 0 0 0 0 0 0 0 0 0 0 0 0 0 0 0 0 0 0 0 0 0 0 0 0 0 0]\n"
     ]
    }
   ],
   "source": [
    "rfc = RandomForestClassifier().fit(x_train, y_train)\n",
    "\n",
    "rfc_pred = rfc.predict(x_test)\n",
    "print(rfc_pred)"
   ]
  },
  {
   "cell_type": "code",
   "execution_count": 32,
   "id": "37134f9b-f17b-4e0d-801b-bb318d1f4a86",
   "metadata": {
    "colab": {
     "base_uri": "https://localhost:8080/"
    },
    "executionInfo": {
     "elapsed": 12,
     "status": "ok",
     "timestamp": 1718553779173,
     "user": {
      "displayName": "Shivam Parab",
      "userId": "05874345986381932168"
     },
     "user_tz": -330
    },
    "id": "37134f9b-f17b-4e0d-801b-bb318d1f4a86",
    "outputId": "e6d35367-158d-4b0a-a54e-9c122f8ac721"
   },
   "outputs": [
    {
     "name": "stdout",
     "output_type": "stream",
     "text": [
      "[[303   6]\n",
      " [ 85   6]]\n",
      "77.0\n"
     ]
    }
   ],
   "source": [
    "print(confusion_matrix(y_test, rfc_pred))\n",
    "print(round(accuracy_score(y_test, rfc_pred),2)*100)"
   ]
  },
  {
   "cell_type": "code",
   "execution_count": 33,
   "id": "c029fdf0-db45-4122-a7ba-116abc2dee57",
   "metadata": {
    "executionInfo": {
     "elapsed": 10,
     "status": "ok",
     "timestamp": 1718553779173,
     "user": {
      "displayName": "Shivam Parab",
      "userId": "05874345986381932168"
     },
     "user_tz": -330
    },
    "id": "c029fdf0-db45-4122-a7ba-116abc2dee57"
   },
   "outputs": [],
   "source": [
    "rfcacc = accuracy_score(y_test, rfc_pred)\n",
    "rfcf1score = f1_score(y_test, rfc_pred)\n",
    "rfcrecall = recall_score(y_test, rfc_pred)\n",
    "rfcbal = balanced_accuracy_score(y_test, rfc_pred)"
   ]
  },
  {
   "cell_type": "code",
   "execution_count": 34,
   "id": "12e61905-de0b-409b-8fe2-cb7d271346b5",
   "metadata": {
    "colab": {
     "base_uri": "https://localhost:8080/",
     "height": 489
    },
    "executionInfo": {
     "elapsed": 1146,
     "status": "ok",
     "timestamp": 1718553780311,
     "user": {
      "displayName": "Shivam Parab",
      "userId": "05874345986381932168"
     },
     "user_tz": -330
    },
    "id": "12e61905-de0b-409b-8fe2-cb7d271346b5",
    "outputId": "ec62f46e-edb9-44a0-c5c5-027c66496cc0"
   },
   "outputs": [
    {
     "data": {
      "image/png": "[encoded data removed]",
      "text/plain": [
       "<Figure size 640x480 with 1 Axes>"
      ]
     },
     "metadata": {},
     "output_type": "display_data"
    },
    {
     "name": "stdout",
     "output_type": "stream",
     "text": [
      "AUC-ROC : 0.7637540453074433\n"
     ]
    }
   ],
   "source": [
    "def plot_roc_curve(fpr, tpr):\n",
    "    plt.plot(fpr, tpr, color='orange', label='ROC')\n",
    "    plt.plot([0, 1], [0, 1], color='darkblue', linestyle='--')\n",
    "    plt.xlabel('False Positive Rate')\n",
    "    plt.ylabel('True Positive Rate')\n",
    "    plt.title('Receiver Operating Characteristic (ROC) Curve')\n",
    "    plt.legend()\n",
    "    plt.show()\n",
    "probs = rfc.predict_proba(x_test)\n",
    "probs = probs[:, 1]\n",
    "rfcauc = roc_auc_score(y_test, probs)\n",
    "fpr, tpr, thresholds = roc_curve(y_test, probs)\n",
    "plot_roc_curve(fpr, tpr)\n",
    "print(\"AUC-ROC :\",rfcauc)"
   ]
  },
  {
   "cell_type": "code",
   "execution_count": 35,
   "id": "79e5aa31-4ef8-49c5-adfd-25bbcef4d98a",
   "metadata": {
    "executionInfo": {
     "elapsed": 20,
     "status": "ok",
     "timestamp": 1718553780313,
     "user": {
      "displayName": "Shivam Parab",
      "userId": "05874345986381932168"
     },
     "user_tz": -330
    },
    "id": "79e5aa31-4ef8-49c5-adfd-25bbcef4d98a"
   },
   "outputs": [],
   "source": [
    "svc = SVC(probability=True)"
   ]
  },
  {
   "cell_type": "code",
   "execution_count": 36,
   "id": "e2aa7923-7380-44df-99c9-9ced4320a20f",
   "metadata": {
    "colab": {
     "base_uri": "https://localhost:8080/"
    },
    "executionInfo": {
     "elapsed": 15315,
     "status": "ok",
     "timestamp": 1718553795609,
     "user": {
      "displayName": "Shivam Parab",
      "userId": "05874345986381932168"
     },
     "user_tz": -330
    },
    "id": "e2aa7923-7380-44df-99c9-9ced4320a20f",
    "outputId": "83d062fa-4cc1-4702-ec64-9b0dc70cc1ec"
   },
   "outputs": [
    {
     "name": "stdout",
     "output_type": "stream",
     "text": [
      "[0 0 0 0 0 0 0 0 0 0 0 0 0 0 0 0 0 0 0 0 0 0 0 0 0 0 0 0 0 0 0 0 0 0 0 0 0\n",
      " 0 0 0 0 0 0 0 0 0 0 0 0 0 0 0 0 0 0 0 0 0 0 0 0 0 0 0 0 0 0 0 0 0 0 0 0 0\n",
      " 0 0 0 0 0 0 0 0 0 0 0 0 0 0 0 0 0 0 0 0 0 0 0 0 0 0 0 0 0 0 0 0 0 0 0 0 0\n",
      " 0 0 0 0 0 0 0 0 0 0 0 0 0 0 0 0 0 0 0 0 0 0 0 0 0 0 0 0 0 0 0 0 0 0 0 0 0\n",
      " 0 0 0 0 0 0 0 0 0 0 0 0 0 0 0 0 0 0 0 0 0 0 0 0 0 0 0 0 0 0 0 0 0 0 0 0 0\n",
      " 0 0 0 0 0 0 0 0 0 0 0 0 0 0 0 0 0 0 0 0 0 0 0 0 0 0 0 0 0 0 0 0 0 0 0 0 0\n",
      " 0 0 0 0 0 0 0 0 0 0 0 0 0 0 0 0 0 0 0 0 0 0 0 0 0 0 0 0 0 0 0 0 0 0 0 0 0\n",
      " 0 0 0 0 0 0 0 0 0 0 0 0 0 0 0 0 0 0 0 0 0 0 0 0 0 0 0 0 0 0 0 0 0 0 0 0 0\n",
      " 0 0 0 0 0 0 0 0 0 0 0 0 0 0 0 0 0 0 0 0 0 0 0 0 0 0 0 0 0 0 0 0 0 0 0 0 0\n",
      " 0 0 0 0 0 0 0 0 0 0 0 0 0 0 0 0 0 0 0 0 0 0 0 0 0 0 0 0 0 0 0 0 0 0 0 0 0\n",
      " 0 0 0 0 0 0 0 0 0 0 0 0 0 0 0 0 0 0 0 0 0 0 0 0 0 0 0 0 0 0]\n"
     ]
    }
   ],
   "source": [
    "svc.fit(x_train, y_train)\n",
    "\n",
    "svc_pred = svc.predict(x_test)\n",
    "print(svc_pred)"
   ]
  },
  {
   "cell_type": "code",
   "execution_count": 37,
   "id": "4df5d595-5b4e-4a0a-befd-93b6ad088028",
   "metadata": {
    "colab": {
     "base_uri": "https://localhost:8080/"
    },
    "executionInfo": {
     "elapsed": 38,
     "status": "ok",
     "timestamp": 1718553795610,
     "user": {
      "displayName": "Shivam Parab",
      "userId": "05874345986381932168"
     },
     "user_tz": -330
    },
    "id": "4df5d595-5b4e-4a0a-befd-93b6ad088028",
    "outputId": "2b240017-9a3c-4464-edc9-abd39833412f"
   },
   "outputs": [
    {
     "name": "stdout",
     "output_type": "stream",
     "text": [
      "[[309   0]\n",
      " [ 91   0]]\n",
      "77.0\n"
     ]
    }
   ],
   "source": [
    "print(confusion_matrix(y_test, svc_pred))\n",
    "print(round(accuracy_score(y_test, svc_pred),2)*100)"
   ]
  },
  {
   "cell_type": "code",
   "execution_count": 38,
   "id": "4c003c07-bc2e-4b32-bd9f-da97890d2ddd",
   "metadata": {
    "executionInfo": {
     "elapsed": 36,
     "status": "ok",
     "timestamp": 1718553795610,
     "user": {
      "displayName": "Shivam Parab",
      "userId": "05874345986381932168"
     },
     "user_tz": -330
    },
    "id": "4c003c07-bc2e-4b32-bd9f-da97890d2ddd"
   },
   "outputs": [],
   "source": [
    "svcacc = accuracy_score(y_test, svc_pred)\n",
    "svcf1score = f1_score(y_test, svc_pred)\n",
    "svcrecall = recall_score(y_test, svc_pred)\n",
    "svcbal = balanced_accuracy_score(y_test, svc_pred)"
   ]
  },
  {
   "cell_type": "code",
   "execution_count": 39,
   "id": "f5bdafc6-7f71-445b-965d-2e53e8dd7268",
   "metadata": {
    "colab": {
     "base_uri": "https://localhost:8080/",
     "height": 489
    },
    "executionInfo": {
     "elapsed": 36,
     "status": "ok",
     "timestamp": 1718553795610,
     "user": {
      "displayName": "Shivam Parab",
      "userId": "05874345986381932168"
     },
     "user_tz": -330
    },
    "id": "f5bdafc6-7f71-445b-965d-2e53e8dd7268",
    "outputId": "84d5b6a5-0b06-4ceb-baa9-c6fae96ca66e"
   },
   "outputs": [
    {
     "data": {
      "image/png": "[encoded data removed]",
      "text/plain": [
       "<Figure size 640x480 with 1 Axes>"
      ]
     },
     "metadata": {},
     "output_type": "display_data"
    },
    {
     "name": "stdout",
     "output_type": "stream",
     "text": [
      "AUC-ROC : 0.5254098652156904\n"
     ]
    }
   ],
   "source": [
    "def plot_roc_curve(fpr, tpr):\n",
    "    plt.plot(fpr, tpr, color='orange', label='ROC')\n",
    "    plt.plot([0, 1], [0, 1], color='darkblue', linestyle='--')\n",
    "    plt.xlabel('False Positive Rate')\n",
    "    plt.ylabel('True Positive Rate')\n",
    "    plt.title('Receiver Operating Characteristic (ROC) Curve')\n",
    "    plt.legend()\n",
    "    plt.show()\n",
    "probs = svc.predict_proba(x_test)\n",
    "probs = probs[:, 1]\n",
    "svcauc = roc_auc_score(y_test, probs)\n",
    "fpr, tpr, thresholds = roc_curve(y_test, probs)\n",
    "plot_roc_curve(fpr, tpr)\n",
    "print(\"AUC-ROC :\",svcauc)"
   ]
  },
  {
   "cell_type": "code",
   "execution_count": 40,
   "id": "3a049f42-2cfc-429e-a9f9-1eb0080ff959",
   "metadata": {
    "colab": {
     "base_uri": "https://localhost:8080/"
    },
    "executionInfo": {
     "elapsed": 34,
     "status": "ok",
     "timestamp": 1718553795610,
     "user": {
      "displayName": "Shivam Parab",
      "userId": "05874345986381932168"
     },
     "user_tz": -330
    },
    "id": "3a049f42-2cfc-429e-a9f9-1eb0080ff959",
    "outputId": "df4ddd43-636e-4e4e-c624-042bd1f4c055"
   },
   "outputs": [
    {
     "name": "stdout",
     "output_type": "stream",
     "text": [
      "[0 0 0 0 0 0 0 0 0 0 0 0 0 1 0 1 0 0 0 1 0 0 1 0 0 1 0 0 0 1 0 0 0 0 0 0 0\n",
      " 0 0 0 0 0 0 0 0 1 0 0 0 0 0 0 0 0 0 0 0 0 0 0 0 0 0 0 1 0 0 0 0 0 0 1 0 0\n",
      " 0 0 0 0 0 0 0 0 0 0 0 0 0 0 0 1 0 0 0 0 0 0 0 0 0 0 0 0 0 0 1 0 0 0 0 0 0\n",
      " 0 0 1 0 0 0 0 0 0 0 0 0 0 0 0 0 0 0 0 0 0 0 0 1 0 0 0 0 0 0 0 0 0 0 0 0 0\n",
      " 0 0 0 0 0 0 0 1 0 1 0 0 1 0 0 0 0 0 0 0 0 0 1 0 0 0 0 0 0 0 0 0 0 0 0 0 0\n",
      " 0 0 0 0 0 0 0 0 0 0 0 0 0 0 0 0 0 0 0 0 0 0 0 0 0 1 0 0 0 1 0 0 0 0 0 0 1\n",
      " 1 0 0 0 0 0 0 0 0 1 0 0 0 1 0 0 0 0 0 0 0 0 0 0 0 0 0 0 0 1 0 1 1 0 0 0 0\n",
      " 1 0 0 0 0 0 0 0 0 0 0 0 0 1 0 0 0 0 0 0 0 0 0 0 0 0 0 0 0 0 0 0 0 0 0 0 0\n",
      " 0 0 1 0 0 0 0 0 0 0 0 0 0 0 0 0 0 0 0 0 0 0 0 0 0 0 0 0 0 0 0 0 0 0 1 0 0\n",
      " 0 0 1 0 0 0 0 0 0 0 0 0 0 0 0 0 0 0 0 0 0 0 1 0 0 0 0 0 0 0 0 0 0 0 0 0 0\n",
      " 1 0 0 1 0 0 0 0 0 0 0 0 0 0 0 0 0 0 0 1 0 0 0 1 0 0 0 1 0 0]\n"
     ]
    }
   ],
   "source": [
    "knn = KNeighborsClassifier().fit(x_train, y_train)\n",
    "\n",
    "knn_pred = knn.predict(x_test)\n",
    "print(knn_pred)"
   ]
  },
  {
   "cell_type": "code",
   "execution_count": 41,
   "id": "3i5N-yn3cqVz",
   "metadata": {
    "colab": {
     "base_uri": "https://localhost:8080/"
    },
    "executionInfo": {
     "elapsed": 30,
     "status": "ok",
     "timestamp": 1718553795610,
     "user": {
      "displayName": "Shivam Parab",
      "userId": "05874345986381932168"
     },
     "user_tz": -330
    },
    "id": "3i5N-yn3cqVz",
    "outputId": "883422fb-82d8-44ab-fa6c-5e370c0baaf9"
   },
   "outputs": [
    {
     "name": "stdout",
     "output_type": "stream",
     "text": [
      "[[284  25]\n",
      " [ 79  12]]\n",
      "74.0\n"
     ]
    }
   ],
   "source": [
    "print(confusion_matrix(y_test, knn_pred))\n",
    "print(round(accuracy_score(y_test, knn_pred), 2) * 100)"
   ]
  },
  {
   "cell_type": "code",
   "execution_count": 42,
   "id": "s_w1NpBsctuZ",
   "metadata": {
    "executionInfo": {
     "elapsed": 28,
     "status": "ok",
     "timestamp": 1718553795610,
     "user": {
      "displayName": "Shivam Parab",
      "userId": "05874345986381932168"
     },
     "user_tz": -330
    },
    "id": "s_w1NpBsctuZ"
   },
   "outputs": [],
   "source": [
    "knnacc = accuracy_score(y_test, knn_pred)\n",
    "knnf1score = f1_score(y_test, knn_pred)\n",
    "knnrecall = recall_score(y_test, knn_pred)\n",
    "knnbal = balanced_accuracy_score(y_test, knn_pred)"
   ]
  },
  {
   "cell_type": "code",
   "execution_count": 43,
   "id": "S2y6k2NucwGL",
   "metadata": {
    "colab": {
     "base_uri": "https://localhost:8080/",
     "height": 489
    },
    "executionInfo": {
     "elapsed": 1247,
     "status": "ok",
     "timestamp": 1718553796829,
     "user": {
      "displayName": "Shivam Parab",
      "userId": "05874345986381932168"
     },
     "user_tz": -330
    },
    "id": "S2y6k2NucwGL",
    "outputId": "f6b81f74-0d5e-4daf-95cb-65a622739f8d"
   },
   "outputs": [
    {
     "data": {
      "image/png": "[encoded data removed]",
      "text/plain": [
       "<Figure size 640x480 with 1 Axes>"
      ]
     },
     "metadata": {},
     "output_type": "display_data"
    },
    {
     "name": "stdout",
     "output_type": "stream",
     "text": [
      "AUC-ROC: 0.48657491375937983\n"
     ]
    }
   ],
   "source": [
    "def plot_roc_curve(fpr, tpr):\n",
    "    plt.plot(fpr, tpr, color='orange', label='ROC')\n",
    "    plt.plot([0, 1], [0, 1], color='darkblue', linestyle='--')\n",
    "    plt.xlabel('False Positive Rate')\n",
    "    plt.ylabel('True Positive Rate')\n",
    "    plt.title('Receiver Operating Characteristic (ROC) Curve')\n",
    "    plt.legend()\n",
    "    plt.show()\n",
    "probs = knn.predict_proba(x_test)\n",
    "probs = probs[:, 1]\n",
    "knn_auc = roc_auc_score(y_test, probs)\n",
    "fpr, tpr, thresholds = roc_curve(y_test, probs)\n",
    "plot_roc_curve(fpr, tpr)\n",
    "print(\"AUC-ROC:\", knn_auc)"
   ]
  },
  {
   "cell_type": "markdown",
   "id": "76ae6150",
   "metadata": {},
   "source": [
    "Creating a list of tuples named 'models', where each tuple represents a model along with its evaluation metrics.\n",
    "\n",
    "Evaluation metrics:\n",
    "    1. accuracy_score: Ratio of correctly predicted instances to the total instances.\n",
    "    2. recall_score: Ratio of true positives to the sum of true positives and false negatives.\n",
    "    3. f1_score: Harmonic mean of precision and recall. It balances precision and recall and is useful when there is an uneven class distribution.\n",
    "    4. balanced_accuracy_score: adjusts the accuracy metric by accounting for the imbalance in the classes. It is the average of recall obtained on each class.\n",
    "    5. roc_auc_score: Computes the Area Under the ROC Curve (ROC AUC), which quantifies the overall performance of a binary classification model based on its ability to discriminate between positive and negative classes (in this case, Is_lead and No_Lead)."
   ]
  },
  {
   "cell_type": "code",
   "execution_count": 44,
   "id": "5BNOdy7UhYZT",
   "metadata": {
    "executionInfo": {
     "elapsed": 40,
     "status": "ok",
     "timestamp": 1718553796830,
     "user": {
      "displayName": "Shivam Parab",
      "userId": "05874345986381932168"
     },
     "user_tz": -330
    },
    "id": "5BNOdy7UhYZT"
   },
   "outputs": [],
   "source": [
    "models = [('Logistic Regression', logacc, logf1score, logrecall, logbal, lrauc),\n",
    "          ('Naive_Bayes', nbacc, nbf1score, nbrecall, nbbal, nbauc),\n",
    "          ('Decision TreeClassifier', dtcacc, dtcf1score, dtcrecall, dtcbal, dtcauc),\n",
    "          ('RandomForest Classifier', rfcacc, rfcf1score, rfcrecall, rfcbal, rfcauc),\n",
    "          ('SVC', svcacc, svcf1score, svcrecall, svcbal, svcauc),\n",
    "          ('KNN', knnacc, knnf1score, knnrecall, knnbal, knn_auc)]"
   ]
  },
  {
   "cell_type": "code",
   "execution_count": 45,
   "id": "1ZEGJ6dfjCik",
   "metadata": {
    "colab": {
     "base_uri": "https://localhost:8080/",
     "height": 237
    },
    "executionInfo": {
     "elapsed": 40,
     "status": "ok",
     "timestamp": 1718553796830,
     "user": {
      "displayName": "Shivam Parab",
      "userId": "05874345986381932168"
     },
     "user_tz": -330
    },
    "id": "1ZEGJ6dfjCik",
    "outputId": "44bb1c41-25fa-46ca-f453-5c891b904fc9"
   },
   "outputs": [
    {
     "data": {
      "text/html": [
       "<div>\n",
       "<style scoped>\n",
       "    .dataframe tbody tr th:only-of-type {\n",
       "        vertical-align: middle;\n",
       "    }\n",
       "\n",
       "    .dataframe tbody tr th {\n",
       "        vertical-align: top;\n",
       "    }\n",
       "\n",
       "    .dataframe thead th {\n",
       "        text-align: right;\n",
       "    }\n",
       "</style>\n",
       "<table border=\"1\" class=\"dataframe\">\n",
       "  <thead>\n",
       "    <tr style=\"text-align: right;\">\n",
       "      <th></th>\n",
       "      <th>Model</th>\n",
       "      <th>Accuracy</th>\n",
       "      <th>F1-Score</th>\n",
       "      <th>Recall</th>\n",
       "      <th>Balanced Accuracy</th>\n",
       "      <th>AUC-ROC</th>\n",
       "    </tr>\n",
       "  </thead>\n",
       "  <tbody>\n",
       "    <tr>\n",
       "      <th>0</th>\n",
       "      <td>Logistic Regression</td>\n",
       "      <td>0.7675</td>\n",
       "      <td>0.243902</td>\n",
       "      <td>0.164835</td>\n",
       "      <td>0.554909</td>\n",
       "      <td>0.682066</td>\n",
       "    </tr>\n",
       "    <tr>\n",
       "      <th>1</th>\n",
       "      <td>Naive_Bayes</td>\n",
       "      <td>0.7650</td>\n",
       "      <td>0.020833</td>\n",
       "      <td>0.010989</td>\n",
       "      <td>0.499022</td>\n",
       "      <td>0.677620</td>\n",
       "    </tr>\n",
       "    <tr>\n",
       "      <th>2</th>\n",
       "      <td>Decision TreeClassifier</td>\n",
       "      <td>0.7700</td>\n",
       "      <td>0.352113</td>\n",
       "      <td>0.274725</td>\n",
       "      <td>0.595291</td>\n",
       "      <td>0.595291</td>\n",
       "    </tr>\n",
       "    <tr>\n",
       "      <th>3</th>\n",
       "      <td>RandomForest Classifier</td>\n",
       "      <td>0.7725</td>\n",
       "      <td>0.116505</td>\n",
       "      <td>0.065934</td>\n",
       "      <td>0.523258</td>\n",
       "      <td>0.763754</td>\n",
       "    </tr>\n",
       "    <tr>\n",
       "      <th>4</th>\n",
       "      <td>SVC</td>\n",
       "      <td>0.7725</td>\n",
       "      <td>0.000000</td>\n",
       "      <td>0.000000</td>\n",
       "      <td>0.500000</td>\n",
       "      <td>0.525410</td>\n",
       "    </tr>\n",
       "    <tr>\n",
       "      <th>5</th>\n",
       "      <td>KNN</td>\n",
       "      <td>0.7400</td>\n",
       "      <td>0.187500</td>\n",
       "      <td>0.131868</td>\n",
       "      <td>0.525481</td>\n",
       "      <td>0.486575</td>\n",
       "    </tr>\n",
       "  </tbody>\n",
       "</table>\n",
       "</div>"
      ],
      "text/plain": [
       "                     Model  Accuracy  F1-Score    Recall  Balanced Accuracy  \\\n",
       "0      Logistic Regression    0.7675  0.243902  0.164835           0.554909   \n",
       "1              Naive_Bayes    0.7650  0.020833  0.010989           0.499022   \n",
       "2  Decision TreeClassifier    0.7700  0.352113  0.274725           0.595291   \n",
       "3  RandomForest Classifier    0.7725  0.116505  0.065934           0.523258   \n",
       "4                      SVC    0.7725  0.000000  0.000000           0.500000   \n",
       "5                      KNN    0.7400  0.187500  0.131868           0.525481   \n",
       "\n",
       "    AUC-ROC  \n",
       "0  0.682066  \n",
       "1  0.677620  \n",
       "2  0.595291  \n",
       "3  0.763754  \n",
       "4  0.525410  \n",
       "5  0.486575  "
      ]
     },
     "execution_count": 45,
     "metadata": {},
     "output_type": "execute_result"
    }
   ],
   "source": [
    "# creating a dataframe\n",
    "predict = pd.DataFrame(models, columns=['Model', 'Accuracy', 'F1-Score', 'Recall', 'Balanced Accuracy', 'AUC-ROC'])\n",
    "predict"
   ]
  },
  {
   "cell_type": "code",
   "execution_count": 46,
   "id": "SF2fzQ_ZjZKh",
   "metadata": {
    "colab": {
     "base_uri": "https://localhost:8080/",
     "height": 237
    },
    "executionInfo": {
     "elapsed": 39,
     "status": "ok",
     "timestamp": 1718553796830,
     "user": {
      "displayName": "Shivam Parab",
      "userId": "05874345986381932168"
     },
     "user_tz": -330
    },
    "id": "SF2fzQ_ZjZKh",
    "outputId": "89e7d173-0210-49f4-ec67-79a9544e6bc0"
   },
   "outputs": [
    {
     "data": {
      "text/html": [
       "<style type=\"text/css\">\n",
       "#T_acd63_row0_col1 {\n",
       "  background-color: #2525fd;\n",
       "  color: #f1f1f1;\n",
       "}\n",
       "#T_acd63_row0_col2, #T_acd63_row1_col5 {\n",
       "  background-color: #4a4afb;\n",
       "  color: #f1f1f1;\n",
       "}\n",
       "#T_acd63_row0_col3 {\n",
       "  background-color: #6060fa;\n",
       "  color: #f1f1f1;\n",
       "}\n",
       "#T_acd63_row0_col4 {\n",
       "  background-color: #6565fa;\n",
       "  color: #f1f1f1;\n",
       "}\n",
       "#T_acd63_row0_col5 {\n",
       "  background-color: #4747fb;\n",
       "  color: #f1f1f1;\n",
       "}\n",
       "#T_acd63_row1_col1 {\n",
       "  background-color: #3838fc;\n",
       "  color: #f1f1f1;\n",
       "}\n",
       "#T_acd63_row1_col2 {\n",
       "  background-color: #e2e2f3;\n",
       "  color: #000000;\n",
       "}\n",
       "#T_acd63_row1_col3 {\n",
       "  background-color: #e7e7f3;\n",
       "  color: #000000;\n",
       "}\n",
       "#T_acd63_row1_col4, #T_acd63_row4_col2, #T_acd63_row4_col3, #T_acd63_row5_col1, #T_acd63_row5_col5 {\n",
       "  background-color: #f0f0f3;\n",
       "  color: #000000;\n",
       "}\n",
       "#T_acd63_row2_col1 {\n",
       "  background-color: #1212fe;\n",
       "  color: #f1f1f1;\n",
       "}\n",
       "#T_acd63_row2_col2, #T_acd63_row2_col3, #T_acd63_row2_col4, #T_acd63_row3_col1, #T_acd63_row3_col5, #T_acd63_row4_col1 {\n",
       "  background-color: #0000ff;\n",
       "  color: #f1f1f1;\n",
       "}\n",
       "#T_acd63_row2_col5 {\n",
       "  background-color: #9292f8;\n",
       "  color: #f1f1f1;\n",
       "}\n",
       "#T_acd63_row3_col2 {\n",
       "  background-color: #a1a1f7;\n",
       "  color: #f1f1f1;\n",
       "}\n",
       "#T_acd63_row3_col3 {\n",
       "  background-color: #b7b7f6;\n",
       "  color: #000000;\n",
       "}\n",
       "#T_acd63_row3_col4 {\n",
       "  background-color: #b4b4f6;\n",
       "  color: #000000;\n",
       "}\n",
       "#T_acd63_row4_col4 {\n",
       "  background-color: #efeff3;\n",
       "  color: #000000;\n",
       "}\n",
       "#T_acd63_row4_col5 {\n",
       "  background-color: #cfcff4;\n",
       "  color: #000000;\n",
       "}\n",
       "#T_acd63_row5_col2 {\n",
       "  background-color: #7070f9;\n",
       "  color: #f1f1f1;\n",
       "}\n",
       "#T_acd63_row5_col3 {\n",
       "  background-color: #7d7df9;\n",
       "  color: #f1f1f1;\n",
       "}\n",
       "#T_acd63_row5_col4 {\n",
       "  background-color: #aeaef6;\n",
       "  color: #000000;\n",
       "}\n",
       "</style>\n",
       "<table id=\"T_acd63\">\n",
       "  <thead>\n",
       "    <tr>\n",
       "      <th class=\"blank level0\" >&nbsp;</th>\n",
       "      <th id=\"T_acd63_level0_col0\" class=\"col_heading level0 col0\" >Model</th>\n",
       "      <th id=\"T_acd63_level0_col1\" class=\"col_heading level0 col1\" >Accuracy</th>\n",
       "      <th id=\"T_acd63_level0_col2\" class=\"col_heading level0 col2\" >F1-Score</th>\n",
       "      <th id=\"T_acd63_level0_col3\" class=\"col_heading level0 col3\" >Recall</th>\n",
       "      <th id=\"T_acd63_level0_col4\" class=\"col_heading level0 col4\" >Balanced Accuracy</th>\n",
       "      <th id=\"T_acd63_level0_col5\" class=\"col_heading level0 col5\" >AUC-ROC</th>\n",
       "    </tr>\n",
       "  </thead>\n",
       "  <tbody>\n",
       "    <tr>\n",
       "      <th id=\"T_acd63_level0_row0\" class=\"row_heading level0 row0\" >0</th>\n",
       "      <td id=\"T_acd63_row0_col0\" class=\"data row0 col0\" >Logistic Regression</td>\n",
       "      <td id=\"T_acd63_row0_col1\" class=\"data row0 col1\" >0.767500</td>\n",
       "      <td id=\"T_acd63_row0_col2\" class=\"data row0 col2\" >0.243902</td>\n",
       "      <td id=\"T_acd63_row0_col3\" class=\"data row0 col3\" >0.164835</td>\n",
       "      <td id=\"T_acd63_row0_col4\" class=\"data row0 col4\" >0.554909</td>\n",
       "      <td id=\"T_acd63_row0_col5\" class=\"data row0 col5\" >0.682066</td>\n",
       "    </tr>\n",
       "    <tr>\n",
       "      <th id=\"T_acd63_level0_row1\" class=\"row_heading level0 row1\" >1</th>\n",
       "      <td id=\"T_acd63_row1_col0\" class=\"data row1 col0\" >Naive_Bayes</td>\n",
       "      <td id=\"T_acd63_row1_col1\" class=\"data row1 col1\" >0.765000</td>\n",
       "      <td id=\"T_acd63_row1_col2\" class=\"data row1 col2\" >0.020833</td>\n",
       "      <td id=\"T_acd63_row1_col3\" class=\"data row1 col3\" >0.010989</td>\n",
       "      <td id=\"T_acd63_row1_col4\" class=\"data row1 col4\" >0.499022</td>\n",
       "      <td id=\"T_acd63_row1_col5\" class=\"data row1 col5\" >0.677620</td>\n",
       "    </tr>\n",
       "    <tr>\n",
       "      <th id=\"T_acd63_level0_row2\" class=\"row_heading level0 row2\" >2</th>\n",
       "      <td id=\"T_acd63_row2_col0\" class=\"data row2 col0\" >Decision TreeClassifier</td>\n",
       "      <td id=\"T_acd63_row2_col1\" class=\"data row2 col1\" >0.770000</td>\n",
       "      <td id=\"T_acd63_row2_col2\" class=\"data row2 col2\" >0.352113</td>\n",
       "      <td id=\"T_acd63_row2_col3\" class=\"data row2 col3\" >0.274725</td>\n",
       "      <td id=\"T_acd63_row2_col4\" class=\"data row2 col4\" >0.595291</td>\n",
       "      <td id=\"T_acd63_row2_col5\" class=\"data row2 col5\" >0.595291</td>\n",
       "    </tr>\n",
       "    <tr>\n",
       "      <th id=\"T_acd63_level0_row3\" class=\"row_heading level0 row3\" >3</th>\n",
       "      <td id=\"T_acd63_row3_col0\" class=\"data row3 col0\" >RandomForest Classifier</td>\n",
       "      <td id=\"T_acd63_row3_col1\" class=\"data row3 col1\" >0.772500</td>\n",
       "      <td id=\"T_acd63_row3_col2\" class=\"data row3 col2\" >0.116505</td>\n",
       "      <td id=\"T_acd63_row3_col3\" class=\"data row3 col3\" >0.065934</td>\n",
       "      <td id=\"T_acd63_row3_col4\" class=\"data row3 col4\" >0.523258</td>\n",
       "      <td id=\"T_acd63_row3_col5\" class=\"data row3 col5\" >0.763754</td>\n",
       "    </tr>\n",
       "    <tr>\n",
       "      <th id=\"T_acd63_level0_row4\" class=\"row_heading level0 row4\" >4</th>\n",
       "      <td id=\"T_acd63_row4_col0\" class=\"data row4 col0\" >SVC</td>\n",
       "      <td id=\"T_acd63_row4_col1\" class=\"data row4 col1\" >0.772500</td>\n",
       "      <td id=\"T_acd63_row4_col2\" class=\"data row4 col2\" >0.000000</td>\n",
       "      <td id=\"T_acd63_row4_col3\" class=\"data row4 col3\" >0.000000</td>\n",
       "      <td id=\"T_acd63_row4_col4\" class=\"data row4 col4\" >0.500000</td>\n",
       "      <td id=\"T_acd63_row4_col5\" class=\"data row4 col5\" >0.525410</td>\n",
       "    </tr>\n",
       "    <tr>\n",
       "      <th id=\"T_acd63_level0_row5\" class=\"row_heading level0 row5\" >5</th>\n",
       "      <td id=\"T_acd63_row5_col0\" class=\"data row5 col0\" >KNN</td>\n",
       "      <td id=\"T_acd63_row5_col1\" class=\"data row5 col1\" >0.740000</td>\n",
       "      <td id=\"T_acd63_row5_col2\" class=\"data row5 col2\" >0.187500</td>\n",
       "      <td id=\"T_acd63_row5_col3\" class=\"data row5 col3\" >0.131868</td>\n",
       "      <td id=\"T_acd63_row5_col4\" class=\"data row5 col4\" >0.525481</td>\n",
       "      <td id=\"T_acd63_row5_col5\" class=\"data row5 col5\" >0.486575</td>\n",
       "    </tr>\n",
       "  </tbody>\n",
       "</table>\n"
      ],
      "text/plain": [
       "<pandas.io.formats.style.Styler at 0x25e1f406a10>"
      ]
     },
     "execution_count": 46,
     "metadata": {},
     "output_type": "execute_result"
    }
   ],
   "source": [
    "cm = sns.light_palette(\"blue\", as_cmap=True)\n",
    "s = predict.style.background_gradient(cmap=cm)\n",
    "s"
   ]
  },
  {
   "cell_type": "code",
   "execution_count": 47,
   "id": "6tlon34Ikl0H",
   "metadata": {
    "colab": {
     "base_uri": "https://localhost:8080/",
     "height": 449
    },
    "executionInfo": {
     "elapsed": 39,
     "status": "ok",
     "timestamp": 1718553796830,
     "user": {
      "displayName": "Shivam Parab",
      "userId": "05874345986381932168"
     },
     "user_tz": -330
    },
    "id": "6tlon34Ikl0H",
    "outputId": "579986a3-6a0c-4068-f0fa-0640e7159413"
   },
   "outputs": [
    {
     "data": {
      "image/png": "[encoded data removed]",
      "text/plain": [
       "<Figure size 640x480 with 1 Axes>"
      ]
     },
     "metadata": {},
     "output_type": "display_data"
    }
   ],
   "source": [
    "ax = sns.barplot(y=\"Model\", x=\"AUC-ROC\", data=predict)"
   ]
  },
  {
   "cell_type": "code",
   "execution_count": 48,
   "id": "kx4f99pkngXC",
   "metadata": {
    "colab": {
     "base_uri": "https://localhost:8080/"
    },
    "executionInfo": {
     "elapsed": 38,
     "status": "ok",
     "timestamp": 1718553796830,
     "user": {
      "displayName": "Shivam Parab",
      "userId": "05874345986381932168"
     },
     "user_tz": -330
    },
    "id": "kx4f99pkngXC",
    "outputId": "daacc0ec-d226-4138-e19b-8d949d2bcd1b"
   },
   "outputs": [
    {
     "name": "stdout",
     "output_type": "stream",
     "text": [
      "Best Model for Predicting Leads:\n",
      "                     Model  Accuracy  F1-Score    Recall  Balanced Accuracy  \\\n",
      "3  RandomForest Classifier    0.7725  0.116505  0.065934           0.523258   \n",
      "\n",
      "    AUC-ROC  \n",
      "3  0.763754  \n"
     ]
    }
   ],
   "source": [
    "# finding the best model based on overall perormance of the moels.\n",
    "best_model = predict.loc[predict['AUC-ROC'] == predict['AUC-ROC'].max()]\n",
    "print(\"Best Model for Predicting Leads:\")\n",
    "print(best_model)\n"
   ]
  },
  {
   "cell_type": "markdown",
   "id": "b642c18f",
   "metadata": {},
   "source": [
    "Save the trained Random Forest Classifier (rfc) model to a file ('rfc_model1.pkl') for future use, allowing it to be easily reloaded and used for predictions without needing to retrain the model."
   ]
  },
  {
   "cell_type": "code",
   "execution_count": 49,
   "id": "1yI-qSPTwycu",
   "metadata": {
    "colab": {
     "base_uri": "https://localhost:8080/"
    },
    "executionInfo": {
     "elapsed": 36,
     "status": "ok",
     "timestamp": 1718553796830,
     "user": {
      "displayName": "Shivam Parab",
      "userId": "05874345986381932168"
     },
     "user_tz": -330
    },
    "id": "1yI-qSPTwycu",
    "outputId": "e6e1ad8b-4948-4efc-9f08-d4ee64b55822"
   },
   "outputs": [
    {
     "data": {
      "text/plain": [
       "['rfc_model1.pkl']"
      ]
     },
     "execution_count": 49,
     "metadata": {},
     "output_type": "execute_result"
    }
   ],
   "source": [
    "import joblib\n",
    "joblib.dump(rfc, 'rfc_model1.pkl')"
   ]
  },
  {
   "cell_type": "markdown",
   "id": "ef201687",
   "metadata": {},
   "source": [
    "Importing the testing data."
   ]
  },
  {
   "cell_type": "code",
   "execution_count": 50,
   "id": "nJv3SVmzp85p",
   "metadata": {
    "executionInfo": {
     "elapsed": 34,
     "status": "ok",
     "timestamp": 1718553796831,
     "user": {
      "displayName": "Shivam Parab",
      "userId": "05874345986381932168"
     },
     "user_tz": -330
    },
    "id": "nJv3SVmzp85p"
   },
   "outputs": [],
   "source": [
    "testing_data = pd.read_csv(\"E:/Engineering/TnP/Projects/DataScience/CreditCardLead/dataset/test_mSzZ8RL.csv\")"
   ]
  },
  {
   "cell_type": "code",
   "execution_count": 51,
   "id": "GXSaSSJlxcyE",
   "metadata": {
    "colab": {
     "base_uri": "https://localhost:8080/",
     "height": 423
    },
    "executionInfo": {
     "elapsed": 34,
     "status": "ok",
     "timestamp": 1718553796831,
     "user": {
      "displayName": "Shivam Parab",
      "userId": "05874345986381932168"
     },
     "user_tz": -330
    },
    "id": "GXSaSSJlxcyE",
    "outputId": "345ac621-aeb5-40b7-ac12-87ca4c823d81"
   },
   "outputs": [
    {
     "data": {
      "text/html": [
       "<div>\n",
       "<style scoped>\n",
       "    .dataframe tbody tr th:only-of-type {\n",
       "        vertical-align: middle;\n",
       "    }\n",
       "\n",
       "    .dataframe tbody tr th {\n",
       "        vertical-align: top;\n",
       "    }\n",
       "\n",
       "    .dataframe thead th {\n",
       "        text-align: right;\n",
       "    }\n",
       "</style>\n",
       "<table border=\"1\" class=\"dataframe\">\n",
       "  <thead>\n",
       "    <tr style=\"text-align: right;\">\n",
       "      <th></th>\n",
       "      <th>ID</th>\n",
       "      <th>Gender</th>\n",
       "      <th>Age</th>\n",
       "      <th>Region_Code</th>\n",
       "      <th>Occupation</th>\n",
       "      <th>Channel_Code</th>\n",
       "      <th>Vintage</th>\n",
       "      <th>Credit_Product</th>\n",
       "      <th>Avg_Account_Balance</th>\n",
       "      <th>Is_Active</th>\n",
       "    </tr>\n",
       "  </thead>\n",
       "  <tbody>\n",
       "    <tr>\n",
       "      <th>0</th>\n",
       "      <td>VBENBARO</td>\n",
       "      <td>Male</td>\n",
       "      <td>29</td>\n",
       "      <td>RG254</td>\n",
       "      <td>Other</td>\n",
       "      <td>X1</td>\n",
       "      <td>25</td>\n",
       "      <td>Yes</td>\n",
       "      <td>742366</td>\n",
       "      <td>No</td>\n",
       "    </tr>\n",
       "    <tr>\n",
       "      <th>1</th>\n",
       "      <td>CCMEWNKY</td>\n",
       "      <td>Male</td>\n",
       "      <td>43</td>\n",
       "      <td>RG268</td>\n",
       "      <td>Other</td>\n",
       "      <td>X2</td>\n",
       "      <td>49</td>\n",
       "      <td>NaN</td>\n",
       "      <td>925537</td>\n",
       "      <td>No</td>\n",
       "    </tr>\n",
       "    <tr>\n",
       "      <th>2</th>\n",
       "      <td>VK3KGA9M</td>\n",
       "      <td>Male</td>\n",
       "      <td>31</td>\n",
       "      <td>RG270</td>\n",
       "      <td>Salaried</td>\n",
       "      <td>X1</td>\n",
       "      <td>14</td>\n",
       "      <td>No</td>\n",
       "      <td>215949</td>\n",
       "      <td>No</td>\n",
       "    </tr>\n",
       "    <tr>\n",
       "      <th>3</th>\n",
       "      <td>TT8RPZVC</td>\n",
       "      <td>Male</td>\n",
       "      <td>29</td>\n",
       "      <td>RG272</td>\n",
       "      <td>Other</td>\n",
       "      <td>X1</td>\n",
       "      <td>33</td>\n",
       "      <td>No</td>\n",
       "      <td>868070</td>\n",
       "      <td>No</td>\n",
       "    </tr>\n",
       "    <tr>\n",
       "      <th>4</th>\n",
       "      <td>SHQZEYTZ</td>\n",
       "      <td>Female</td>\n",
       "      <td>29</td>\n",
       "      <td>RG270</td>\n",
       "      <td>Other</td>\n",
       "      <td>X1</td>\n",
       "      <td>19</td>\n",
       "      <td>No</td>\n",
       "      <td>657087</td>\n",
       "      <td>No</td>\n",
       "    </tr>\n",
       "    <tr>\n",
       "      <th>...</th>\n",
       "      <td>...</td>\n",
       "      <td>...</td>\n",
       "      <td>...</td>\n",
       "      <td>...</td>\n",
       "      <td>...</td>\n",
       "      <td>...</td>\n",
       "      <td>...</td>\n",
       "      <td>...</td>\n",
       "      <td>...</td>\n",
       "      <td>...</td>\n",
       "    </tr>\n",
       "    <tr>\n",
       "      <th>105307</th>\n",
       "      <td>DBENJOYI</td>\n",
       "      <td>Male</td>\n",
       "      <td>52</td>\n",
       "      <td>RG268</td>\n",
       "      <td>Salaried</td>\n",
       "      <td>X2</td>\n",
       "      <td>86</td>\n",
       "      <td>Yes</td>\n",
       "      <td>4242558</td>\n",
       "      <td>Yes</td>\n",
       "    </tr>\n",
       "    <tr>\n",
       "      <th>105308</th>\n",
       "      <td>CWQ72DWS</td>\n",
       "      <td>Male</td>\n",
       "      <td>55</td>\n",
       "      <td>RG277</td>\n",
       "      <td>Other</td>\n",
       "      <td>X2</td>\n",
       "      <td>86</td>\n",
       "      <td>Yes</td>\n",
       "      <td>1159153</td>\n",
       "      <td>No</td>\n",
       "    </tr>\n",
       "    <tr>\n",
       "      <th>105309</th>\n",
       "      <td>HDESC8GU</td>\n",
       "      <td>Male</td>\n",
       "      <td>35</td>\n",
       "      <td>RG254</td>\n",
       "      <td>Salaried</td>\n",
       "      <td>X4</td>\n",
       "      <td>15</td>\n",
       "      <td>No</td>\n",
       "      <td>1703727</td>\n",
       "      <td>No</td>\n",
       "    </tr>\n",
       "    <tr>\n",
       "      <th>105310</th>\n",
       "      <td>2PW4SFCA</td>\n",
       "      <td>Male</td>\n",
       "      <td>53</td>\n",
       "      <td>RG254</td>\n",
       "      <td>Other</td>\n",
       "      <td>X3</td>\n",
       "      <td>93</td>\n",
       "      <td>No</td>\n",
       "      <td>737178</td>\n",
       "      <td>Yes</td>\n",
       "    </tr>\n",
       "    <tr>\n",
       "      <th>105311</th>\n",
       "      <td>F2NOYPPZ</td>\n",
       "      <td>Male</td>\n",
       "      <td>27</td>\n",
       "      <td>RG256</td>\n",
       "      <td>Salaried</td>\n",
       "      <td>X1</td>\n",
       "      <td>21</td>\n",
       "      <td>No</td>\n",
       "      <td>591565</td>\n",
       "      <td>No</td>\n",
       "    </tr>\n",
       "  </tbody>\n",
       "</table>\n",
       "<p>105312 rows × 10 columns</p>\n",
       "</div>"
      ],
      "text/plain": [
       "              ID  Gender  Age Region_Code Occupation Channel_Code  Vintage  \\\n",
       "0       VBENBARO    Male   29       RG254      Other           X1       25   \n",
       "1       CCMEWNKY    Male   43       RG268      Other           X2       49   \n",
       "2       VK3KGA9M    Male   31       RG270   Salaried           X1       14   \n",
       "3       TT8RPZVC    Male   29       RG272      Other           X1       33   \n",
       "4       SHQZEYTZ  Female   29       RG270      Other           X1       19   \n",
       "...          ...     ...  ...         ...        ...          ...      ...   \n",
       "105307  DBENJOYI    Male   52       RG268   Salaried           X2       86   \n",
       "105308  CWQ72DWS    Male   55       RG277      Other           X2       86   \n",
       "105309  HDESC8GU    Male   35       RG254   Salaried           X4       15   \n",
       "105310  2PW4SFCA    Male   53       RG254      Other           X3       93   \n",
       "105311  F2NOYPPZ    Male   27       RG256   Salaried           X1       21   \n",
       "\n",
       "       Credit_Product  Avg_Account_Balance Is_Active  \n",
       "0                 Yes               742366        No  \n",
       "1                 NaN               925537        No  \n",
       "2                  No               215949        No  \n",
       "3                  No               868070        No  \n",
       "4                  No               657087        No  \n",
       "...               ...                  ...       ...  \n",
       "105307            Yes              4242558       Yes  \n",
       "105308            Yes              1159153        No  \n",
       "105309             No              1703727        No  \n",
       "105310             No               737178       Yes  \n",
       "105311             No               591565        No  \n",
       "\n",
       "[105312 rows x 10 columns]"
      ]
     },
     "execution_count": 51,
     "metadata": {},
     "output_type": "execute_result"
    }
   ],
   "source": [
    "testing_data"
   ]
  },
  {
   "cell_type": "code",
   "execution_count": 52,
   "id": "6miFyjqxxe8i",
   "metadata": {
    "executionInfo": {
     "elapsed": 33,
     "status": "ok",
     "timestamp": 1718553796831,
     "user": {
      "displayName": "Shivam Parab",
      "userId": "05874345986381932168"
     },
     "user_tz": -330
    },
    "id": "6miFyjqxxe8i"
   },
   "outputs": [],
   "source": [
    "testing_data['Serial_Number'] = range(1, len(testing_data) + 1)"
   ]
  },
  {
   "cell_type": "code",
   "execution_count": 53,
   "id": "816f5b7c",
   "metadata": {},
   "outputs": [
    {
     "data": {
      "text/plain": [
       "Index(['ID', 'Gender', 'Age', 'Region_Code', 'Occupation', 'Channel_Code',\n",
       "       'Vintage', 'Credit_Product', 'Avg_Account_Balance', 'Is_Active',\n",
       "       'Serial_Number'],\n",
       "      dtype='object')"
      ]
     },
     "execution_count": 53,
     "metadata": {},
     "output_type": "execute_result"
    }
   ],
   "source": [
    "testing_data.columns"
   ]
  },
  {
   "cell_type": "code",
   "execution_count": 54,
   "id": "yrHUHeWvxk07",
   "metadata": {
    "colab": {
     "base_uri": "https://localhost:8080/",
     "height": 443
    },
    "executionInfo": {
     "elapsed": 33,
     "status": "ok",
     "timestamp": 1718553796831,
     "user": {
      "displayName": "Shivam Parab",
      "userId": "05874345986381932168"
     },
     "user_tz": -330
    },
    "id": "yrHUHeWvxk07",
    "outputId": "2c28ab62-5115-4c06-9915-f3d483539021"
   },
   "outputs": [
    {
     "data": {
      "text/html": [
       "<div>\n",
       "<style scoped>\n",
       "    .dataframe tbody tr th:only-of-type {\n",
       "        vertical-align: middle;\n",
       "    }\n",
       "\n",
       "    .dataframe tbody tr th {\n",
       "        vertical-align: top;\n",
       "    }\n",
       "\n",
       "    .dataframe thead th {\n",
       "        text-align: right;\n",
       "    }\n",
       "</style>\n",
       "<table border=\"1\" class=\"dataframe\">\n",
       "  <thead>\n",
       "    <tr style=\"text-align: right;\">\n",
       "      <th></th>\n",
       "      <th>ID</th>\n",
       "      <th>Gender</th>\n",
       "      <th>Age</th>\n",
       "      <th>Region_Code</th>\n",
       "      <th>Occupation</th>\n",
       "      <th>Channel_Code</th>\n",
       "      <th>Vintage</th>\n",
       "      <th>Credit_Product</th>\n",
       "      <th>Avg_Account_Balance</th>\n",
       "      <th>Is_Active</th>\n",
       "      <th>Serial_Number</th>\n",
       "    </tr>\n",
       "  </thead>\n",
       "  <tbody>\n",
       "    <tr>\n",
       "      <th>0</th>\n",
       "      <td>VBENBARO</td>\n",
       "      <td>Male</td>\n",
       "      <td>29</td>\n",
       "      <td>RG254</td>\n",
       "      <td>Other</td>\n",
       "      <td>X1</td>\n",
       "      <td>25</td>\n",
       "      <td>Yes</td>\n",
       "      <td>742366</td>\n",
       "      <td>No</td>\n",
       "      <td>1</td>\n",
       "    </tr>\n",
       "    <tr>\n",
       "      <th>1</th>\n",
       "      <td>CCMEWNKY</td>\n",
       "      <td>Male</td>\n",
       "      <td>43</td>\n",
       "      <td>RG268</td>\n",
       "      <td>Other</td>\n",
       "      <td>X2</td>\n",
       "      <td>49</td>\n",
       "      <td>NaN</td>\n",
       "      <td>925537</td>\n",
       "      <td>No</td>\n",
       "      <td>2</td>\n",
       "    </tr>\n",
       "    <tr>\n",
       "      <th>2</th>\n",
       "      <td>VK3KGA9M</td>\n",
       "      <td>Male</td>\n",
       "      <td>31</td>\n",
       "      <td>RG270</td>\n",
       "      <td>Salaried</td>\n",
       "      <td>X1</td>\n",
       "      <td>14</td>\n",
       "      <td>No</td>\n",
       "      <td>215949</td>\n",
       "      <td>No</td>\n",
       "      <td>3</td>\n",
       "    </tr>\n",
       "    <tr>\n",
       "      <th>3</th>\n",
       "      <td>TT8RPZVC</td>\n",
       "      <td>Male</td>\n",
       "      <td>29</td>\n",
       "      <td>RG272</td>\n",
       "      <td>Other</td>\n",
       "      <td>X1</td>\n",
       "      <td>33</td>\n",
       "      <td>No</td>\n",
       "      <td>868070</td>\n",
       "      <td>No</td>\n",
       "      <td>4</td>\n",
       "    </tr>\n",
       "    <tr>\n",
       "      <th>4</th>\n",
       "      <td>SHQZEYTZ</td>\n",
       "      <td>Female</td>\n",
       "      <td>29</td>\n",
       "      <td>RG270</td>\n",
       "      <td>Other</td>\n",
       "      <td>X1</td>\n",
       "      <td>19</td>\n",
       "      <td>No</td>\n",
       "      <td>657087</td>\n",
       "      <td>No</td>\n",
       "      <td>5</td>\n",
       "    </tr>\n",
       "    <tr>\n",
       "      <th>...</th>\n",
       "      <td>...</td>\n",
       "      <td>...</td>\n",
       "      <td>...</td>\n",
       "      <td>...</td>\n",
       "      <td>...</td>\n",
       "      <td>...</td>\n",
       "      <td>...</td>\n",
       "      <td>...</td>\n",
       "      <td>...</td>\n",
       "      <td>...</td>\n",
       "      <td>...</td>\n",
       "    </tr>\n",
       "    <tr>\n",
       "      <th>105307</th>\n",
       "      <td>DBENJOYI</td>\n",
       "      <td>Male</td>\n",
       "      <td>52</td>\n",
       "      <td>RG268</td>\n",
       "      <td>Salaried</td>\n",
       "      <td>X2</td>\n",
       "      <td>86</td>\n",
       "      <td>Yes</td>\n",
       "      <td>4242558</td>\n",
       "      <td>Yes</td>\n",
       "      <td>105308</td>\n",
       "    </tr>\n",
       "    <tr>\n",
       "      <th>105308</th>\n",
       "      <td>CWQ72DWS</td>\n",
       "      <td>Male</td>\n",
       "      <td>55</td>\n",
       "      <td>RG277</td>\n",
       "      <td>Other</td>\n",
       "      <td>X2</td>\n",
       "      <td>86</td>\n",
       "      <td>Yes</td>\n",
       "      <td>1159153</td>\n",
       "      <td>No</td>\n",
       "      <td>105309</td>\n",
       "    </tr>\n",
       "    <tr>\n",
       "      <th>105309</th>\n",
       "      <td>HDESC8GU</td>\n",
       "      <td>Male</td>\n",
       "      <td>35</td>\n",
       "      <td>RG254</td>\n",
       "      <td>Salaried</td>\n",
       "      <td>X4</td>\n",
       "      <td>15</td>\n",
       "      <td>No</td>\n",
       "      <td>1703727</td>\n",
       "      <td>No</td>\n",
       "      <td>105310</td>\n",
       "    </tr>\n",
       "    <tr>\n",
       "      <th>105310</th>\n",
       "      <td>2PW4SFCA</td>\n",
       "      <td>Male</td>\n",
       "      <td>53</td>\n",
       "      <td>RG254</td>\n",
       "      <td>Other</td>\n",
       "      <td>X3</td>\n",
       "      <td>93</td>\n",
       "      <td>No</td>\n",
       "      <td>737178</td>\n",
       "      <td>Yes</td>\n",
       "      <td>105311</td>\n",
       "    </tr>\n",
       "    <tr>\n",
       "      <th>105311</th>\n",
       "      <td>F2NOYPPZ</td>\n",
       "      <td>Male</td>\n",
       "      <td>27</td>\n",
       "      <td>RG256</td>\n",
       "      <td>Salaried</td>\n",
       "      <td>X1</td>\n",
       "      <td>21</td>\n",
       "      <td>No</td>\n",
       "      <td>591565</td>\n",
       "      <td>No</td>\n",
       "      <td>105312</td>\n",
       "    </tr>\n",
       "  </tbody>\n",
       "</table>\n",
       "<p>105312 rows × 11 columns</p>\n",
       "</div>"
      ],
      "text/plain": [
       "              ID  Gender  Age Region_Code Occupation Channel_Code  Vintage  \\\n",
       "0       VBENBARO    Male   29       RG254      Other           X1       25   \n",
       "1       CCMEWNKY    Male   43       RG268      Other           X2       49   \n",
       "2       VK3KGA9M    Male   31       RG270   Salaried           X1       14   \n",
       "3       TT8RPZVC    Male   29       RG272      Other           X1       33   \n",
       "4       SHQZEYTZ  Female   29       RG270      Other           X1       19   \n",
       "...          ...     ...  ...         ...        ...          ...      ...   \n",
       "105307  DBENJOYI    Male   52       RG268   Salaried           X2       86   \n",
       "105308  CWQ72DWS    Male   55       RG277      Other           X2       86   \n",
       "105309  HDESC8GU    Male   35       RG254   Salaried           X4       15   \n",
       "105310  2PW4SFCA    Male   53       RG254      Other           X3       93   \n",
       "105311  F2NOYPPZ    Male   27       RG256   Salaried           X1       21   \n",
       "\n",
       "       Credit_Product  Avg_Account_Balance Is_Active  Serial_Number  \n",
       "0                 Yes               742366        No              1  \n",
       "1                 NaN               925537        No              2  \n",
       "2                  No               215949        No              3  \n",
       "3                  No               868070        No              4  \n",
       "4                  No               657087        No              5  \n",
       "...               ...                  ...       ...            ...  \n",
       "105307            Yes              4242558       Yes         105308  \n",
       "105308            Yes              1159153        No         105309  \n",
       "105309             No              1703727        No         105310  \n",
       "105310             No               737178       Yes         105311  \n",
       "105311             No               591565        No         105312  \n",
       "\n",
       "[105312 rows x 11 columns]"
      ]
     },
     "execution_count": 54,
     "metadata": {},
     "output_type": "execute_result"
    }
   ],
   "source": [
    "testing_data"
   ]
  },
  {
   "cell_type": "code",
   "execution_count": 55,
   "id": "qHvmuDX3ukJ9",
   "metadata": {
    "colab": {
     "base_uri": "https://localhost:8080/",
     "height": 443
    },
    "executionInfo": {
     "elapsed": 536,
     "status": "ok",
     "timestamp": 1718554042464,
     "user": {
      "displayName": "Shivam Parab",
      "userId": "05874345986381932168"
     },
     "user_tz": -330
    },
    "id": "qHvmuDX3ukJ9",
    "outputId": "92a471ff-8c47-4d56-fe37-e3a02b15aae9"
   },
   "outputs": [
    {
     "data": {
      "text/html": [
       "<div>\n",
       "<style scoped>\n",
       "    .dataframe tbody tr th:only-of-type {\n",
       "        vertical-align: middle;\n",
       "    }\n",
       "\n",
       "    .dataframe tbody tr th {\n",
       "        vertical-align: top;\n",
       "    }\n",
       "\n",
       "    .dataframe thead th {\n",
       "        text-align: right;\n",
       "    }\n",
       "</style>\n",
       "<table border=\"1\" class=\"dataframe\">\n",
       "  <thead>\n",
       "    <tr style=\"text-align: right;\">\n",
       "      <th></th>\n",
       "      <th>ID</th>\n",
       "      <th>Gender</th>\n",
       "      <th>Age</th>\n",
       "      <th>Region_Code</th>\n",
       "      <th>Occupation</th>\n",
       "      <th>Channel_Code</th>\n",
       "      <th>Vintage</th>\n",
       "      <th>Credit_Product</th>\n",
       "      <th>Avg_Account_Balance</th>\n",
       "      <th>Is_Active</th>\n",
       "      <th>Serial_Number</th>\n",
       "    </tr>\n",
       "  </thead>\n",
       "  <tbody>\n",
       "    <tr>\n",
       "      <th>49705</th>\n",
       "      <td>GZNRMMYX</td>\n",
       "      <td>Male</td>\n",
       "      <td>61</td>\n",
       "      <td>RG268</td>\n",
       "      <td>Other</td>\n",
       "      <td>X3</td>\n",
       "      <td>123</td>\n",
       "      <td>NaN</td>\n",
       "      <td>1130816</td>\n",
       "      <td>No</td>\n",
       "      <td>49706</td>\n",
       "    </tr>\n",
       "    <tr>\n",
       "      <th>1973</th>\n",
       "      <td>7UVWTHEE</td>\n",
       "      <td>Female</td>\n",
       "      <td>31</td>\n",
       "      <td>RG279</td>\n",
       "      <td>Self_Employed</td>\n",
       "      <td>X1</td>\n",
       "      <td>26</td>\n",
       "      <td>No</td>\n",
       "      <td>686376</td>\n",
       "      <td>No</td>\n",
       "      <td>1974</td>\n",
       "    </tr>\n",
       "    <tr>\n",
       "      <th>57532</th>\n",
       "      <td>SCSHETWR</td>\n",
       "      <td>Female</td>\n",
       "      <td>71</td>\n",
       "      <td>RG268</td>\n",
       "      <td>Other</td>\n",
       "      <td>X2</td>\n",
       "      <td>32</td>\n",
       "      <td>Yes</td>\n",
       "      <td>918186</td>\n",
       "      <td>No</td>\n",
       "      <td>57533</td>\n",
       "    </tr>\n",
       "    <tr>\n",
       "      <th>17058</th>\n",
       "      <td>J6HSGRKH</td>\n",
       "      <td>Female</td>\n",
       "      <td>34</td>\n",
       "      <td>RG277</td>\n",
       "      <td>Self_Employed</td>\n",
       "      <td>X4</td>\n",
       "      <td>15</td>\n",
       "      <td>NaN</td>\n",
       "      <td>1901351</td>\n",
       "      <td>Yes</td>\n",
       "      <td>17059</td>\n",
       "    </tr>\n",
       "    <tr>\n",
       "      <th>45238</th>\n",
       "      <td>Q2NPTRM9</td>\n",
       "      <td>Female</td>\n",
       "      <td>31</td>\n",
       "      <td>RG270</td>\n",
       "      <td>Salaried</td>\n",
       "      <td>X1</td>\n",
       "      <td>39</td>\n",
       "      <td>No</td>\n",
       "      <td>510797</td>\n",
       "      <td>No</td>\n",
       "      <td>45239</td>\n",
       "    </tr>\n",
       "    <tr>\n",
       "      <th>...</th>\n",
       "      <td>...</td>\n",
       "      <td>...</td>\n",
       "      <td>...</td>\n",
       "      <td>...</td>\n",
       "      <td>...</td>\n",
       "      <td>...</td>\n",
       "      <td>...</td>\n",
       "      <td>...</td>\n",
       "      <td>...</td>\n",
       "      <td>...</td>\n",
       "      <td>...</td>\n",
       "    </tr>\n",
       "    <tr>\n",
       "      <th>16125</th>\n",
       "      <td>S9LXJFUH</td>\n",
       "      <td>Female</td>\n",
       "      <td>32</td>\n",
       "      <td>RG254</td>\n",
       "      <td>Other</td>\n",
       "      <td>X1</td>\n",
       "      <td>26</td>\n",
       "      <td>No</td>\n",
       "      <td>680591</td>\n",
       "      <td>No</td>\n",
       "      <td>16126</td>\n",
       "    </tr>\n",
       "    <tr>\n",
       "      <th>8333</th>\n",
       "      <td>DWYNP63O</td>\n",
       "      <td>Female</td>\n",
       "      <td>67</td>\n",
       "      <td>RG268</td>\n",
       "      <td>Other</td>\n",
       "      <td>X3</td>\n",
       "      <td>117</td>\n",
       "      <td>Yes</td>\n",
       "      <td>614829</td>\n",
       "      <td>No</td>\n",
       "      <td>8334</td>\n",
       "    </tr>\n",
       "    <tr>\n",
       "      <th>18395</th>\n",
       "      <td>LJMCGFB2</td>\n",
       "      <td>Male</td>\n",
       "      <td>53</td>\n",
       "      <td>RG254</td>\n",
       "      <td>Self_Employed</td>\n",
       "      <td>X2</td>\n",
       "      <td>97</td>\n",
       "      <td>Yes</td>\n",
       "      <td>2929764</td>\n",
       "      <td>No</td>\n",
       "      <td>18396</td>\n",
       "    </tr>\n",
       "    <tr>\n",
       "      <th>21712</th>\n",
       "      <td>IVHDDCEQ</td>\n",
       "      <td>Female</td>\n",
       "      <td>41</td>\n",
       "      <td>RG266</td>\n",
       "      <td>Other</td>\n",
       "      <td>X1</td>\n",
       "      <td>26</td>\n",
       "      <td>No</td>\n",
       "      <td>707131</td>\n",
       "      <td>Yes</td>\n",
       "      <td>21713</td>\n",
       "    </tr>\n",
       "    <tr>\n",
       "      <th>52744</th>\n",
       "      <td>KJTJZJKC</td>\n",
       "      <td>Male</td>\n",
       "      <td>64</td>\n",
       "      <td>RG284</td>\n",
       "      <td>Other</td>\n",
       "      <td>X3</td>\n",
       "      <td>105</td>\n",
       "      <td>Yes</td>\n",
       "      <td>1308273</td>\n",
       "      <td>Yes</td>\n",
       "      <td>52745</td>\n",
       "    </tr>\n",
       "  </tbody>\n",
       "</table>\n",
       "<p>2000 rows × 11 columns</p>\n",
       "</div>"
      ],
      "text/plain": [
       "             ID  Gender  Age Region_Code     Occupation Channel_Code  Vintage  \\\n",
       "49705  GZNRMMYX    Male   61       RG268          Other           X3      123   \n",
       "1973   7UVWTHEE  Female   31       RG279  Self_Employed           X1       26   \n",
       "57532  SCSHETWR  Female   71       RG268          Other           X2       32   \n",
       "17058  J6HSGRKH  Female   34       RG277  Self_Employed           X4       15   \n",
       "45238  Q2NPTRM9  Female   31       RG270       Salaried           X1       39   \n",
       "...         ...     ...  ...         ...            ...          ...      ...   \n",
       "16125  S9LXJFUH  Female   32       RG254          Other           X1       26   \n",
       "8333   DWYNP63O  Female   67       RG268          Other           X3      117   \n",
       "18395  LJMCGFB2    Male   53       RG254  Self_Employed           X2       97   \n",
       "21712  IVHDDCEQ  Female   41       RG266          Other           X1       26   \n",
       "52744  KJTJZJKC    Male   64       RG284          Other           X3      105   \n",
       "\n",
       "      Credit_Product  Avg_Account_Balance Is_Active  Serial_Number  \n",
       "49705            NaN              1130816        No          49706  \n",
       "1973              No               686376        No           1974  \n",
       "57532            Yes               918186        No          57533  \n",
       "17058            NaN              1901351       Yes          17059  \n",
       "45238             No               510797        No          45239  \n",
       "...              ...                  ...       ...            ...  \n",
       "16125             No               680591        No          16126  \n",
       "8333             Yes               614829        No           8334  \n",
       "18395            Yes              2929764        No          18396  \n",
       "21712             No               707131       Yes          21713  \n",
       "52744            Yes              1308273       Yes          52745  \n",
       "\n",
       "[2000 rows x 11 columns]"
      ]
     },
     "execution_count": 55,
     "metadata": {},
     "output_type": "execute_result"
    }
   ],
   "source": [
    "testing_data_dup = testing_data.sample(2000)\n",
    "testing_data_dup"
   ]
  },
  {
   "cell_type": "markdown",
   "id": "0a3a5f50",
   "metadata": {},
   "source": [
    "Converting categorical variabkles into numerical variables."
   ]
  },
  {
   "cell_type": "code",
   "execution_count": 56,
   "id": "iWNgSmeWvYaQ",
   "metadata": {
    "executionInfo": {
     "elapsed": 14141,
     "status": "ok",
     "timestamp": 1718554058721,
     "user": {
      "displayName": "Shivam Parab",
      "userId": "05874345986381932168"
     },
     "user_tz": -330
    },
    "id": "iWNgSmeWvYaQ"
   },
   "outputs": [],
   "source": [
    "testing_data_dup = pd.get_dummies(testing_data_dup, drop_first=True)"
   ]
  },
  {
   "cell_type": "markdown",
   "id": "33a334e0",
   "metadata": {},
   "source": [
    "Comaparing the columns in Training and Testing dataset"
   ]
  },
  {
   "cell_type": "code",
   "execution_count": 57,
   "id": "QdIgKFPjvhtQ",
   "metadata": {
    "colab": {
     "base_uri": "https://localhost:8080/",
     "height": 1000
    },
    "executionInfo": {
     "elapsed": 13273,
     "status": "ok",
     "timestamp": 1718554083867,
     "user": {
      "displayName": "Shivam Parab",
      "userId": "05874345986381932168"
     },
     "user_tz": -330
    },
    "id": "QdIgKFPjvhtQ",
    "outputId": "aebe3c61-a70d-4cc2-f788-35832669bd41"
   },
   "outputs": [
    {
     "data": {
      "text/html": [
       "<div>\n",
       "<style scoped>\n",
       "    .dataframe tbody tr th:only-of-type {\n",
       "        vertical-align: middle;\n",
       "    }\n",
       "\n",
       "    .dataframe tbody tr th {\n",
       "        vertical-align: top;\n",
       "    }\n",
       "\n",
       "    .dataframe thead th {\n",
       "        text-align: right;\n",
       "    }\n",
       "</style>\n",
       "<table border=\"1\" class=\"dataframe\">\n",
       "  <thead>\n",
       "    <tr style=\"text-align: right;\">\n",
       "      <th></th>\n",
       "      <th>Age</th>\n",
       "      <th>Vintage</th>\n",
       "      <th>Avg_Account_Balance</th>\n",
       "      <th>Serial_Number</th>\n",
       "      <th>ID_245FELDT</th>\n",
       "      <th>ID_24TWNPYJ</th>\n",
       "      <th>ID_25GBTWNE</th>\n",
       "      <th>ID_26IVNPEJ</th>\n",
       "      <th>ID_26JMFBCU</th>\n",
       "      <th>ID_26QY7JID</th>\n",
       "      <th>...</th>\n",
       "      <th>Region_Code_RG283</th>\n",
       "      <th>Region_Code_RG284</th>\n",
       "      <th>Occupation_Other</th>\n",
       "      <th>Occupation_Salaried</th>\n",
       "      <th>Occupation_Self_Employed</th>\n",
       "      <th>Channel_Code_X2</th>\n",
       "      <th>Channel_Code_X3</th>\n",
       "      <th>Channel_Code_X4</th>\n",
       "      <th>Credit_Product_Yes</th>\n",
       "      <th>Is_Active_Yes</th>\n",
       "    </tr>\n",
       "  </thead>\n",
       "  <tbody>\n",
       "    <tr>\n",
       "      <th>49705</th>\n",
       "      <td>61</td>\n",
       "      <td>123</td>\n",
       "      <td>1130816</td>\n",
       "      <td>49706</td>\n",
       "      <td>0</td>\n",
       "      <td>0</td>\n",
       "      <td>0</td>\n",
       "      <td>0</td>\n",
       "      <td>0</td>\n",
       "      <td>0</td>\n",
       "      <td>...</td>\n",
       "      <td>0</td>\n",
       "      <td>0</td>\n",
       "      <td>0</td>\n",
       "      <td>0</td>\n",
       "      <td>0</td>\n",
       "      <td>0</td>\n",
       "      <td>0</td>\n",
       "      <td>0</td>\n",
       "      <td>0</td>\n",
       "      <td>0</td>\n",
       "    </tr>\n",
       "    <tr>\n",
       "      <th>1973</th>\n",
       "      <td>31</td>\n",
       "      <td>26</td>\n",
       "      <td>686376</td>\n",
       "      <td>1974</td>\n",
       "      <td>0</td>\n",
       "      <td>0</td>\n",
       "      <td>0</td>\n",
       "      <td>0</td>\n",
       "      <td>0</td>\n",
       "      <td>0</td>\n",
       "      <td>...</td>\n",
       "      <td>0</td>\n",
       "      <td>0</td>\n",
       "      <td>0</td>\n",
       "      <td>0</td>\n",
       "      <td>0</td>\n",
       "      <td>0</td>\n",
       "      <td>0</td>\n",
       "      <td>0</td>\n",
       "      <td>0</td>\n",
       "      <td>0</td>\n",
       "    </tr>\n",
       "    <tr>\n",
       "      <th>57532</th>\n",
       "      <td>71</td>\n",
       "      <td>32</td>\n",
       "      <td>918186</td>\n",
       "      <td>57533</td>\n",
       "      <td>0</td>\n",
       "      <td>0</td>\n",
       "      <td>0</td>\n",
       "      <td>0</td>\n",
       "      <td>0</td>\n",
       "      <td>0</td>\n",
       "      <td>...</td>\n",
       "      <td>0</td>\n",
       "      <td>0</td>\n",
       "      <td>0</td>\n",
       "      <td>0</td>\n",
       "      <td>0</td>\n",
       "      <td>0</td>\n",
       "      <td>0</td>\n",
       "      <td>0</td>\n",
       "      <td>0</td>\n",
       "      <td>0</td>\n",
       "    </tr>\n",
       "    <tr>\n",
       "      <th>17058</th>\n",
       "      <td>34</td>\n",
       "      <td>15</td>\n",
       "      <td>1901351</td>\n",
       "      <td>17059</td>\n",
       "      <td>0</td>\n",
       "      <td>0</td>\n",
       "      <td>0</td>\n",
       "      <td>0</td>\n",
       "      <td>0</td>\n",
       "      <td>0</td>\n",
       "      <td>...</td>\n",
       "      <td>0</td>\n",
       "      <td>0</td>\n",
       "      <td>0</td>\n",
       "      <td>0</td>\n",
       "      <td>0</td>\n",
       "      <td>0</td>\n",
       "      <td>0</td>\n",
       "      <td>0</td>\n",
       "      <td>0</td>\n",
       "      <td>0</td>\n",
       "    </tr>\n",
       "    <tr>\n",
       "      <th>45238</th>\n",
       "      <td>31</td>\n",
       "      <td>39</td>\n",
       "      <td>510797</td>\n",
       "      <td>45239</td>\n",
       "      <td>0</td>\n",
       "      <td>0</td>\n",
       "      <td>0</td>\n",
       "      <td>0</td>\n",
       "      <td>0</td>\n",
       "      <td>0</td>\n",
       "      <td>...</td>\n",
       "      <td>0</td>\n",
       "      <td>0</td>\n",
       "      <td>0</td>\n",
       "      <td>0</td>\n",
       "      <td>0</td>\n",
       "      <td>0</td>\n",
       "      <td>0</td>\n",
       "      <td>0</td>\n",
       "      <td>0</td>\n",
       "      <td>0</td>\n",
       "    </tr>\n",
       "    <tr>\n",
       "      <th>...</th>\n",
       "      <td>...</td>\n",
       "      <td>...</td>\n",
       "      <td>...</td>\n",
       "      <td>...</td>\n",
       "      <td>...</td>\n",
       "      <td>...</td>\n",
       "      <td>...</td>\n",
       "      <td>...</td>\n",
       "      <td>...</td>\n",
       "      <td>...</td>\n",
       "      <td>...</td>\n",
       "      <td>...</td>\n",
       "      <td>...</td>\n",
       "      <td>...</td>\n",
       "      <td>...</td>\n",
       "      <td>...</td>\n",
       "      <td>...</td>\n",
       "      <td>...</td>\n",
       "      <td>...</td>\n",
       "      <td>...</td>\n",
       "      <td>...</td>\n",
       "    </tr>\n",
       "    <tr>\n",
       "      <th>16125</th>\n",
       "      <td>32</td>\n",
       "      <td>26</td>\n",
       "      <td>680591</td>\n",
       "      <td>16126</td>\n",
       "      <td>0</td>\n",
       "      <td>0</td>\n",
       "      <td>0</td>\n",
       "      <td>0</td>\n",
       "      <td>0</td>\n",
       "      <td>0</td>\n",
       "      <td>...</td>\n",
       "      <td>0</td>\n",
       "      <td>0</td>\n",
       "      <td>0</td>\n",
       "      <td>0</td>\n",
       "      <td>0</td>\n",
       "      <td>0</td>\n",
       "      <td>0</td>\n",
       "      <td>0</td>\n",
       "      <td>0</td>\n",
       "      <td>0</td>\n",
       "    </tr>\n",
       "    <tr>\n",
       "      <th>8333</th>\n",
       "      <td>67</td>\n",
       "      <td>117</td>\n",
       "      <td>614829</td>\n",
       "      <td>8334</td>\n",
       "      <td>0</td>\n",
       "      <td>0</td>\n",
       "      <td>0</td>\n",
       "      <td>0</td>\n",
       "      <td>0</td>\n",
       "      <td>0</td>\n",
       "      <td>...</td>\n",
       "      <td>0</td>\n",
       "      <td>0</td>\n",
       "      <td>0</td>\n",
       "      <td>0</td>\n",
       "      <td>0</td>\n",
       "      <td>0</td>\n",
       "      <td>0</td>\n",
       "      <td>0</td>\n",
       "      <td>0</td>\n",
       "      <td>0</td>\n",
       "    </tr>\n",
       "    <tr>\n",
       "      <th>18395</th>\n",
       "      <td>53</td>\n",
       "      <td>97</td>\n",
       "      <td>2929764</td>\n",
       "      <td>18396</td>\n",
       "      <td>0</td>\n",
       "      <td>0</td>\n",
       "      <td>0</td>\n",
       "      <td>0</td>\n",
       "      <td>0</td>\n",
       "      <td>0</td>\n",
       "      <td>...</td>\n",
       "      <td>0</td>\n",
       "      <td>0</td>\n",
       "      <td>0</td>\n",
       "      <td>0</td>\n",
       "      <td>0</td>\n",
       "      <td>0</td>\n",
       "      <td>0</td>\n",
       "      <td>0</td>\n",
       "      <td>0</td>\n",
       "      <td>0</td>\n",
       "    </tr>\n",
       "    <tr>\n",
       "      <th>21712</th>\n",
       "      <td>41</td>\n",
       "      <td>26</td>\n",
       "      <td>707131</td>\n",
       "      <td>21713</td>\n",
       "      <td>0</td>\n",
       "      <td>0</td>\n",
       "      <td>0</td>\n",
       "      <td>0</td>\n",
       "      <td>0</td>\n",
       "      <td>0</td>\n",
       "      <td>...</td>\n",
       "      <td>0</td>\n",
       "      <td>0</td>\n",
       "      <td>0</td>\n",
       "      <td>0</td>\n",
       "      <td>0</td>\n",
       "      <td>0</td>\n",
       "      <td>0</td>\n",
       "      <td>0</td>\n",
       "      <td>0</td>\n",
       "      <td>0</td>\n",
       "    </tr>\n",
       "    <tr>\n",
       "      <th>52744</th>\n",
       "      <td>64</td>\n",
       "      <td>105</td>\n",
       "      <td>1308273</td>\n",
       "      <td>52745</td>\n",
       "      <td>0</td>\n",
       "      <td>0</td>\n",
       "      <td>0</td>\n",
       "      <td>0</td>\n",
       "      <td>0</td>\n",
       "      <td>0</td>\n",
       "      <td>...</td>\n",
       "      <td>0</td>\n",
       "      <td>0</td>\n",
       "      <td>0</td>\n",
       "      <td>0</td>\n",
       "      <td>0</td>\n",
       "      <td>0</td>\n",
       "      <td>0</td>\n",
       "      <td>0</td>\n",
       "      <td>0</td>\n",
       "      <td>0</td>\n",
       "    </tr>\n",
       "  </tbody>\n",
       "</table>\n",
       "<p>2000 rows × 2046 columns</p>\n",
       "</div>"
      ],
      "text/plain": [
       "       Age  Vintage  Avg_Account_Balance  Serial_Number  ID_245FELDT  \\\n",
       "49705   61      123              1130816          49706            0   \n",
       "1973    31       26               686376           1974            0   \n",
       "57532   71       32               918186          57533            0   \n",
       "17058   34       15              1901351          17059            0   \n",
       "45238   31       39               510797          45239            0   \n",
       "...    ...      ...                  ...            ...          ...   \n",
       "16125   32       26               680591          16126            0   \n",
       "8333    67      117               614829           8334            0   \n",
       "18395   53       97              2929764          18396            0   \n",
       "21712   41       26               707131          21713            0   \n",
       "52744   64      105              1308273          52745            0   \n",
       "\n",
       "       ID_24TWNPYJ  ID_25GBTWNE  ID_26IVNPEJ  ID_26JMFBCU  ID_26QY7JID  ...  \\\n",
       "49705            0            0            0            0            0  ...   \n",
       "1973             0            0            0            0            0  ...   \n",
       "57532            0            0            0            0            0  ...   \n",
       "17058            0            0            0            0            0  ...   \n",
       "45238            0            0            0            0            0  ...   \n",
       "...            ...          ...          ...          ...          ...  ...   \n",
       "16125            0            0            0            0            0  ...   \n",
       "8333             0            0            0            0            0  ...   \n",
       "18395            0            0            0            0            0  ...   \n",
       "21712            0            0            0            0            0  ...   \n",
       "52744            0            0            0            0            0  ...   \n",
       "\n",
       "       Region_Code_RG283  Region_Code_RG284  Occupation_Other  \\\n",
       "49705                  0                  0                 0   \n",
       "1973                   0                  0                 0   \n",
       "57532                  0                  0                 0   \n",
       "17058                  0                  0                 0   \n",
       "45238                  0                  0                 0   \n",
       "...                  ...                ...               ...   \n",
       "16125                  0                  0                 0   \n",
       "8333                   0                  0                 0   \n",
       "18395                  0                  0                 0   \n",
       "21712                  0                  0                 0   \n",
       "52744                  0                  0                 0   \n",
       "\n",
       "       Occupation_Salaried  Occupation_Self_Employed  Channel_Code_X2  \\\n",
       "49705                    0                         0                0   \n",
       "1973                     0                         0                0   \n",
       "57532                    0                         0                0   \n",
       "17058                    0                         0                0   \n",
       "45238                    0                         0                0   \n",
       "...                    ...                       ...              ...   \n",
       "16125                    0                         0                0   \n",
       "8333                     0                         0                0   \n",
       "18395                    0                         0                0   \n",
       "21712                    0                         0                0   \n",
       "52744                    0                         0                0   \n",
       "\n",
       "       Channel_Code_X3  Channel_Code_X4  Credit_Product_Yes  Is_Active_Yes  \n",
       "49705                0                0                   0              0  \n",
       "1973                 0                0                   0              0  \n",
       "57532                0                0                   0              0  \n",
       "17058                0                0                   0              0  \n",
       "45238                0                0                   0              0  \n",
       "...                ...              ...                 ...            ...  \n",
       "16125                0                0                   0              0  \n",
       "8333                 0                0                   0              0  \n",
       "18395                0                0                   0              0  \n",
       "21712                0                0                   0              0  \n",
       "52744                0                0                   0              0  \n",
       "\n",
       "[2000 rows x 2046 columns]"
      ]
     },
     "execution_count": 57,
     "metadata": {},
     "output_type": "execute_result"
    }
   ],
   "source": [
    "missing_cols = set(x_train.columns) - set(testing_data.columns)\n",
    "for col in missing_cols:\n",
    "    testing_data_dup[col] = 0\n",
    "testing_data_dup = testing_data_dup[x_train.columns]\n",
    "testing_data_dup"
   ]
  },
  {
   "cell_type": "markdown",
   "id": "4b74e389",
   "metadata": {},
   "source": [
    "Loading the pre-trained model to apply it over the testing data."
   ]
  },
  {
   "cell_type": "code",
   "execution_count": 58,
   "id": "hUF9QMOcvoLB",
   "metadata": {
    "executionInfo": {
     "elapsed": 783,
     "status": "ok",
     "timestamp": 1718554086441,
     "user": {
      "displayName": "Shivam Parab",
      "userId": "05874345986381932168"
     },
     "user_tz": -330
    },
    "id": "hUF9QMOcvoLB"
   },
   "outputs": [],
   "source": [
    "rfc_load = joblib.load('rfc_model1.pkl')"
   ]
  },
  {
   "cell_type": "code",
   "execution_count": 59,
   "id": "LAap4dVbw-tJ",
   "metadata": {
    "colab": {
     "base_uri": "https://localhost:8080/"
    },
    "executionInfo": {
     "elapsed": 2465,
     "status": "ok",
     "timestamp": 1718554090177,
     "user": {
      "displayName": "Shivam Parab",
      "userId": "05874345986381932168"
     },
     "user_tz": -330
    },
    "id": "LAap4dVbw-tJ",
    "outputId": "b9da4a6f-29a6-443d-dc61-cde36adb00d9"
   },
   "outputs": [
    {
     "data": {
      "text/plain": [
       "array([0, 0, 0, ..., 1, 0, 0], dtype=int64)"
      ]
     },
     "execution_count": 59,
     "metadata": {},
     "output_type": "execute_result"
    }
   ],
   "source": [
    "final_pred = rfc_load.predict(testing_data_dup)\n",
    "final_pred"
   ]
  },
  {
   "cell_type": "markdown",
   "id": "a1f4e41c",
   "metadata": {},
   "source": [
    "Saving the result into a .csv file."
   ]
  },
  {
   "cell_type": "code",
   "execution_count": 60,
   "id": "sW4jRu-WxEXP",
   "metadata": {
    "executionInfo": {
     "elapsed": 2,
     "status": "ok",
     "timestamp": 1718554090177,
     "user": {
      "displayName": "Shivam Parab",
      "userId": "05874345986381932168"
     },
     "user_tz": -330
    },
    "id": "sW4jRu-WxEXP"
   },
   "outputs": [],
   "source": [
    "submission = pd.DataFrame({'Serial_Number': testing_data_dup['Serial_Number'], 'Is_Lead': final_pred})\n",
    "submission.to_csv(\"E:/Engineering/TnP/Projects/DataScience/CreditCardLead/Submission.csv\", index=True)"
   ]
  },
  {
   "cell_type": "code",
   "execution_count": 61,
   "id": "8eLDUCqAxNGn",
   "metadata": {
    "executionInfo": {
     "elapsed": 5,
     "status": "ok",
     "timestamp": 1718553800091,
     "user": {
      "displayName": "Shivam Parab",
      "userId": "05874345986381932168"
     },
     "user_tz": -330
    },
    "id": "8eLDUCqAxNGn"
   },
   "outputs": [
    {
     "name": "stdout",
     "output_type": "stream",
     "text": [
      "       Serial_Number  Is_Lead\n",
      "49705          49706        0\n",
      "1973            1974        0\n",
      "57532          57533        0\n",
      "17058          17059        0\n",
      "45238          45239        0\n",
      "...              ...      ...\n",
      "16125          16126        0\n",
      "8333            8334        0\n",
      "18395          18396        1\n",
      "21712          21713        0\n",
      "52744          52745        0\n",
      "\n",
      "[2000 rows x 2 columns]\n"
     ]
    }
   ],
   "source": [
    "print(submission)"
   ]
  },
  {
   "cell_type": "code",
   "execution_count": 62,
   "id": "bd9fbfb4",
   "metadata": {},
   "outputs": [
    {
     "data": {
      "image/png": "[encoded data removed]",
      "text/plain": [
       "<Figure size 400x500 with 1 Axes>"
      ]
     },
     "metadata": {},
     "output_type": "display_data"
    }
   ],
   "source": [
    "plt.figure(figsize=(4, 5))\n",
    "sns.countplot(data=submission, x='Is_Lead')\n",
    "plt.title('Count of Leads vs Non-Leads')\n",
    "plt.xlabel('Is_Lead')\n",
    "plt.ylabel('Count')\n",
    "plt.show()"
   ]
  },
  {
   "cell_type": "code",
   "execution_count": 63,
   "id": "b53e41dd",
   "metadata": {},
   "outputs": [
    {
     "data": {
      "image/png": "[encoded data removed]",
      "text/plain": [
       "<Figure size 400x400 with 1 Axes>"
      ]
     },
     "metadata": {},
     "output_type": "display_data"
    }
   ],
   "source": [
    "plt.figure(figsize=(4, 4))\n",
    "submission['Is_Lead'].value_counts().plot.pie(autopct='%1.1f%%', startangle=90, colors=['skyblue', 'orange'])\n",
    "plt.title('Proportion of Leads vs Non-Leads')\n",
    "plt.ylabel('')\n",
    "plt.show()"
   ]
  },
  {
   "cell_type": "code",
   "execution_count": 64,
   "id": "7de1ca2d",
   "metadata": {},
   "outputs": [
    {
     "data": {
      "image/png": "[encoded data removed]",
      "text/plain": [
       "<Figure size 400x300 with 2 Axes>"
      ]
     },
     "metadata": {},
     "output_type": "display_data"
    }
   ],
   "source": [
    "plt.figure(figsize=(4, 3))\n",
    "corr_matrix = submission.corr()\n",
    "sns.heatmap(corr_matrix, annot=True, cmap='coolwarm')\n",
    "plt.title('Correlation Heatmap')\n",
    "plt.show()"
   ]
  }
 ],
 "metadata": {
  "accelerator": "GPU",
  "colab": {
   "gpuType": "T4",
   "provenance": []
  },
  "kernelspec": {
   "display_name": "Python 3 (ipykernel)",
   "language": "python",
   "name": "python3"
  },
  "language_info": {
   "codemirror_mode": {
    "name": "ipython",
    "version": 3
   },
   "file_extension": ".py",
   "mimetype": "text/x-python",
   "name": "python",
   "nbconvert_exporter": "python",
   "pygments_lexer": "ipython3",
   "version": "3.11.0"
  }
 },
 "nbformat": 4,
 "nbformat_minor": 5
}
